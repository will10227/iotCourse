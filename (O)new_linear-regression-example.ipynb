{
 "cells": [
  {
   "cell_type": "markdown",
   "metadata": {},
   "source": [
    "# HW1: Linear Regression Example (工作經驗到底付多少薪水)"
   ]
  },
  {
   "cell_type": "markdown",
   "metadata": {},
   "source": [
    "# Step1: Import Data and Observe Data"
   ]
  },
  {
   "cell_type": "code",
   "execution_count": 82,
   "metadata": {},
   "outputs": [
    {
     "name": "stdout",
     "output_type": "stream",
     "text": [
      "   experience  salary\n",
      "0         0.5    2500\n",
      "1         0.0    2250\n",
      "2         1.0    2750\n",
      "3         5.0    8000\n",
      "4         8.0    9000\n",
      "Index(['experience', 'salary'], dtype='object')\n"
     ]
    }
   ],
   "source": [
    "import numpy as np\n",
    "import matplotlib.pyplot as plt\n",
    "import pandas as pd\n",
    "\n",
    "data = pd.read_csv(\"dataset.csv\")\n",
    "'''\n",
    "df= pd.read_csv('https://archive.ics.uci.edu/ml/machine-learning-databases/housing/housing.data',header=None, sep='\\s+')\n",
    "'''\n",
    "print(data.head())\n",
    "type(data)\n",
    "'''\n",
    "data.head()\n",
    "print(data.info())\n",
    "len(data)\n",
    "print(data.describe())\n",
    "'''\n",
    "print(data.columns)"
   ]
  },
  {
   "cell_type": "code",
   "execution_count": 83,
   "metadata": {},
   "outputs": [
    {
     "name": "stdout",
     "output_type": "stream",
     "text": [
      "0      0.5\n",
      "1      0.0\n",
      "2      1.0\n",
      "3      5.0\n",
      "4      8.0\n",
      "5      4.0\n",
      "6     15.0\n",
      "7      7.0\n",
      "8      3.0\n",
      "9      2.0\n",
      "10    12.0\n",
      "11    10.0\n",
      "12    14.0\n",
      "13     6.0\n",
      "Name: experience, dtype: float64\n",
      "0      2500\n",
      "1      2250\n",
      "2      2750\n",
      "3      8000\n",
      "4      9000\n",
      "5      6900\n",
      "6     20000\n",
      "7      8500\n",
      "8      6000\n",
      "9      3500\n",
      "10    15000\n",
      "11    13000\n",
      "12    18000\n",
      "13     7500\n",
      "Name: salary, dtype: int64\n"
     ]
    },
    {
     "data": {
      "text/plain": [
       "<matplotlib.collections.PathCollection at 0xcda7ac8>"
      ]
     },
     "execution_count": 83,
     "metadata": {},
     "output_type": "execute_result"
    },
    {
     "data": {
      "image/png": "[encoded data removed]",
      "text/plain": [
       "<matplotlib.figure.Figure at 0xbcfc550>"
      ]
     },
     "metadata": {},
     "output_type": "display_data"
    }
   ],
   "source": [
    "x=data.experience\n",
    "y =data.salary\n",
    "print(x)\n",
    "print(y)\n",
    "plt.scatter(x,y)"
   ]
  },
  {
   "cell_type": "code",
   "execution_count": 84,
   "metadata": {},
   "outputs": [
    {
     "name": "stdout",
     "output_type": "stream",
     "text": [
      "0      0.5\n",
      "1      0.0\n",
      "2      1.0\n",
      "3      5.0\n",
      "4      8.0\n",
      "5      4.0\n",
      "6     15.0\n",
      "7      7.0\n",
      "8      3.0\n",
      "9      2.0\n",
      "10    12.0\n",
      "11    10.0\n",
      "12    14.0\n",
      "13     6.0\n",
      "Name: experience, dtype: float64\n",
      "<class 'pandas.core.series.Series'>\n"
     ]
    },
    {
     "data": {
      "text/plain": [
       "14"
      ]
     },
     "execution_count": 84,
     "metadata": {},
     "output_type": "execute_result"
    }
   ],
   "source": [
    "print(x)\n",
    "print(type(x))\n",
    "len(x)"
   ]
  },
  {
   "cell_type": "markdown",
   "metadata": {},
   "source": [
    "# Step2: Feture Engineering (Data PreProcessing=data missing, outlier, normalization, find efficient features, split training and validation set, test set )"
   ]
  },
  {
   "cell_type": "code",
   "execution_count": 85,
   "metadata": {},
   "outputs": [
    {
     "data": {
      "text/plain": [
       "<matplotlib.collections.PathCollection at 0xce0c5f8>"
      ]
     },
     "execution_count": 85,
     "metadata": {},
     "output_type": "execute_result"
    },
    {
     "data": {
      "image/png": "[encoded data removed]",
      "text/plain": [
       "<matplotlib.figure.Figure at 0xcdd0cc0>"
      ]
     },
     "metadata": {},
     "output_type": "display_data"
    }
   ],
   "source": [
    "plt.scatter(x,y)"
   ]
  },
  {
   "cell_type": "code",
   "execution_count": 86,
   "metadata": {},
   "outputs": [
    {
     "name": "stdout",
     "output_type": "stream",
     "text": [
      "            experience  salary\n",
      "experience      1.0000  0.9887\n",
      "salary          0.9887  1.0000\n"
     ]
    },
    {
     "data": {
      "image/png": "[encoded data removed]",
      "text/plain": [
       "<matplotlib.figure.Figure at 0xbd7e908>"
      ]
     },
     "metadata": {},
     "output_type": "display_data"
    }
   ],
   "source": [
    "print(data.corr())\n",
    "plt.matshow(data.corr())\n",
    "plt.show()"
   ]
  },
  {
   "cell_type": "markdown",
   "metadata": {},
   "source": [
    "## Step2.1 Prepare x, y fetures and labels for sklearn"
   ]
  },
  {
   "cell_type": "code",
   "execution_count": 87,
   "metadata": {},
   "outputs": [
    {
     "name": "stdout",
     "output_type": "stream",
     "text": [
      "<class 'numpy.ndarray'>\n",
      "(14, 1)\n",
      "<class 'numpy.ndarray'>\n",
      "(14, 1)\n"
     ]
    }
   ],
   "source": [
    "\n",
    "x=x.values.reshape(-1,1)\n",
    "y=y.values.reshape(-1,1)\n",
    "\n",
    "print(type(x))\n",
    "print(x.shape)\n",
    "print(type(y))\n",
    "print(y.shape)\n"
   ]
  },
  {
   "cell_type": "markdown",
   "metadata": {},
   "source": [
    "# Step 3: Build Prediction Model"
   ]
  },
  {
   "cell_type": "code",
   "execution_count": 89,
   "metadata": {},
   "outputs": [
    {
     "data": {
      "text/plain": [
       "'\\nprint(model)\\na=model.intercept_\\nb=model.coef_\\n'"
      ]
     },
     "execution_count": 89,
     "metadata": {},
     "output_type": "execute_result"
    }
   ],
   "source": [
    "from sklearn.linear_model import LinearRegression as LR\n",
    "model = LR()\n",
    "model.fit(x,y)\n",
    "pre = model.predict(x)\n",
    "\n",
    "'''\n",
    "print(model)\n",
    "a=model.intercept_\n",
    "b=model.coef_\n",
    "'''"
   ]
  },
  {
   "cell_type": "code",
   "execution_count": 91,
   "metadata": {},
   "outputs": [
    {
     "data": {
      "text/plain": [
       "[<matplotlib.lines.Line2D at 0xcea82b0>]"
      ]
     },
     "execution_count": 91,
     "metadata": {},
     "output_type": "execute_result"
    },
    {
     "data": {
      "image/png": "[encoded data removed]",
      "text/plain": [
       "<matplotlib.figure.Figure at 0xcea8320>"
      ]
     },
     "metadata": {},
     "output_type": "display_data"
    }
   ],
   "source": [
    "plt.scatter(x,y)\n",
    "plt.plot(x,pre)"
   ]
  },
  {
   "cell_type": "markdown",
   "metadata": {},
   "source": [
    "# Step 4: Performance Evaluation"
   ]
  },
  {
   "cell_type": "code",
   "execution_count": 98,
   "metadata": {},
   "outputs": [
    {
     "data": {
      "text/plain": [
       "0.9775283164949903"
      ]
     },
     "execution_count": 98,
     "metadata": {},
     "output_type": "execute_result"
    }
   ],
   "source": [
    "model.score(x,y)\n"
   ]
  },
  {
   "cell_type": "code",
   "execution_count": null,
   "metadata": {},
   "outputs": [],
   "source": []
  },
  {
   "cell_type": "markdown",
   "metadata": {
    "_uuid": "453fdc9ea986b70cceaabb313b8a03e0f4c8ff33"
   },
   "source": [
    "# Contents\n",
    "1. [Importing Libraries and Packages](#p1)\n",
    "2. [Loading and Viewing Data Set](#p2)\n",
    "3. [Plotting and Visualizing Data](#p3)\n",
    "4. [Modeling and Predicting with sklearn](#p4)"
   ]
  },
  {
   "cell_type": "markdown",
   "metadata": {
    "_uuid": "5eee5d12e65116571a4f858eab56e6302583527d"
   },
   "source": [
    "<a id=\"p1\"></a>\n",
    "# 1. Importing Libraries and Packages\n",
    "We will use these packages to help us manipulate the data and visualize the features/labels as well as measure how well our model performed. Numpy and Pandas are helpful for manipulating the dataframe and its columns and cells. We will use matplotlib along with Seaborn to visualize our data."
   ]
  },
  {
   "cell_type": "code",
   "execution_count": null,
   "metadata": {
    "_cell_guid": "b1076dfc-b9ad-4769-8c92-a6c4dae69d19",
    "_uuid": "8f2839f25d086af736a60e9eeb907d3b93b6e0e5",
    "scrolled": true
   },
   "outputs": [],
   "source": [
    "# This Python 3 environment comes with many helpful analytics libraries installed\n",
    "# It is defined by the kaggle/python docker image: https://github.com/kaggle/docker-python\n",
    "# For example, here's several helpful packages to load in \n",
    "\n",
    "import numpy as np # linear algebra\n",
    "import pandas as pd # data processing, CSV file I/O (e.g. pd.read_csv)\n",
    "import matplotlib.pyplot as plt # Plotting data\n",
    "import seaborn as sns # Advanced visualization\n",
    "\n",
    "# Input data files are available in the \"../input/\" directory.\n",
    "# For example, running this (by clicking run or pressing Shift+Enter) will list the files in the input directory\n",
    "\n",
    "import os\n",
    "print(os.listdir(\"../input\"))\n",
    "\n",
    "# Any results you write to the current directory are saved as output."
   ]
  },
  {
   "cell_type": "markdown",
   "metadata": {
    "_uuid": "c655ff74e4a3e9fb76046d28aef5e686d51da187"
   },
   "source": [
    "<a id=\"p2\"></a>\n",
    "# 2. Loading and Viewing Data Set\n",
    "With Pandas, we can load both the training and testing set that we wil later use to train and test our model. Before we begin, we should take a look at our data table to see the values that we'll be working with. We can use the head and describe function to look at some sample data and statistics."
   ]
  },
  {
   "cell_type": "code",
   "execution_count": null,
   "metadata": {
    "_cell_guid": "79c7e3d0-c299-4dcb-8224-4455121ee9b0",
    "_uuid": "d629ff2d2480ee46fbb7e2d37f6b5fab8052498a"
   },
   "outputs": [],
   "source": [
    "data = pd.read_csv('../input/linear-regression-dataset.csv')"
   ]
  },
  {
   "cell_type": "code",
   "execution_count": null,
   "metadata": {
    "_uuid": "73459e88884596905a1b889cb13fe7e982dee1b7"
   },
   "outputs": [],
   "source": [
    "data"
   ]
  },
  {
   "cell_type": "code",
   "execution_count": null,
   "metadata": {
    "_uuid": "cdb0c72a3433d2fb3db5c4b7752199ef8a4954e2"
   },
   "outputs": [],
   "source": [
    "data.info"
   ]
  },
  {
   "cell_type": "code",
   "execution_count": null,
   "metadata": {
    "_uuid": "a001f9f80277ee33b6874e3450bc0a0ea49f633f"
   },
   "outputs": [],
   "source": [
    "data.describe()"
   ]
  },
  {
   "cell_type": "markdown",
   "metadata": {
    "_uuid": "dde30c2bb4fa8a52c7b8c79025bd5e6101d44772"
   },
   "source": [
    "Showing first 5 column"
   ]
  },
  {
   "cell_type": "code",
   "execution_count": null,
   "metadata": {
    "_uuid": "c3590fee8b0ddc7a515873e97f04bf7ce0140967"
   },
   "outputs": [],
   "source": [
    "data.head(5)"
   ]
  },
  {
   "cell_type": "markdown",
   "metadata": {
    "_uuid": "b42f227d01eeb966e2642927d489c66a488e8608"
   },
   "source": [
    "Showing last five columns"
   ]
  },
  {
   "cell_type": "code",
   "execution_count": null,
   "metadata": {
    "_uuid": "4384e1bb431dbaba223108f3347ae54db76a2a74"
   },
   "outputs": [],
   "source": [
    "data.tail()"
   ]
  },
  {
   "cell_type": "code",
   "execution_count": null,
   "metadata": {
    "_uuid": "8013671dd1743fff57c7f4bcbbb333649c6d9068"
   },
   "outputs": [],
   "source": [
    "data.corr()"
   ]
  },
  {
   "cell_type": "markdown",
   "metadata": {
    "_uuid": "758cdd8d2d7e3d01d6071f333087d25c2f5b490e"
   },
   "source": [
    "<a id=\"p3\"></a>\n",
    "# 3. Plotting and Visualizing Data"
   ]
  },
  {
   "cell_type": "markdown",
   "metadata": {
    "_uuid": "28c7ae57317486a443988c1530d6afc73f094e4d"
   },
   "source": [
    "Plotting the data with matplotlib scatter"
   ]
  },
  {
   "cell_type": "code",
   "execution_count": null,
   "metadata": {
    "_uuid": "0f3d7c9c13fb1690e304bd906aa1431220f9dda3"
   },
   "outputs": [],
   "source": [
    "plt.scatter(data.experience, data.salary)\n",
    "plt.xlabel(\"Experience\")\n",
    "plt.ylabel(\"Salary\")\n",
    "plt.show()"
   ]
  },
  {
   "cell_type": "markdown",
   "metadata": {
    "_uuid": "471433138c91941d89a4e95f64e708ab50439a3c"
   },
   "source": [
    "Plotting data with subplot"
   ]
  },
  {
   "cell_type": "code",
   "execution_count": null,
   "metadata": {
    "_uuid": "c3dd4fe9def81f09e9fc05a96b4e723bb6d0038f"
   },
   "outputs": [],
   "source": [
    "data_plot = data.loc[:,[\"experience\",\"salary\"]]\n",
    "data_plot.plot()"
   ]
  },
  {
   "cell_type": "code",
   "execution_count": null,
   "metadata": {
    "_uuid": "b7f0a3337c2b8f96bc7e791b958dac5b5d573a1d"
   },
   "outputs": [],
   "source": [
    "data.plot(kind = \"hist\",y = \"experience\",bins = 50,range= (0,50),normed = True)"
   ]
  },
  {
   "cell_type": "markdown",
   "metadata": {
    "_uuid": "c80ba8bc1131057b3e9fa7700f912fa3e5f55400"
   },
   "source": [
    "> **Seaborn**"
   ]
  },
  {
   "cell_type": "markdown",
   "metadata": {
    "_uuid": "764631e8494e628c06b9ab77932f65a7af67c133"
   },
   "source": [
    "Heatmapping with Seaborn "
   ]
  },
  {
   "cell_type": "code",
   "execution_count": null,
   "metadata": {
    "_uuid": "fb7ff8d1d0d25725e9ddf6b0be661bdc5472e007"
   },
   "outputs": [],
   "source": [
    "f,ax = plt.subplots(figsize=(20, 10))\n",
    "sns.heatmap(data, annot=True, linewidths=0.5,linecolor=\"red\", fmt= '.1f',ax=ax)\n",
    "plt.show()"
   ]
  },
  {
   "cell_type": "markdown",
   "metadata": {
    "_uuid": "b9ba396a4fd22556b970cde7ad3cf392f946b4bd"
   },
   "source": [
    "<a id=\"p4\"></a>\n",
    "# 4 Model Fitting, Optimizing, and Predicting\n",
    "Now that our data has been processed and formmated properly, and that we understand the general data we're working with as well as the trends and associations, we can start to build our model. We can import different classifiers from sklearn. "
   ]
  },
  {
   "cell_type": "code",
   "execution_count": null,
   "metadata": {
    "_uuid": "df098279ecd1cccc37ce72bc7f1d7722bc5a2282"
   },
   "outputs": [],
   "source": [
    "from sklearn.linear_model import LinearRegression"
   ]
  },
  {
   "cell_type": "code",
   "execution_count": null,
   "metadata": {
    "_uuid": "db1e867b1adb5d91b2d3f71c7f8d785c94fdf0ee"
   },
   "outputs": [],
   "source": [
    "linear_reg = LinearRegression()\n",
    "x = data.experience.values.reshape(-1,1)\n",
    "y = data.salary.values.reshape(-1,1)"
   ]
  },
  {
   "cell_type": "markdown",
   "metadata": {
    "_uuid": "69d7f46a2d504db8daef8039867c5bf6f02409f4"
   },
   "source": [
    "Fitting the data"
   ]
  },
  {
   "cell_type": "code",
   "execution_count": null,
   "metadata": {
    "_uuid": "e2224aefe218ca9532d3b869a77bc08b19d38818"
   },
   "outputs": [],
   "source": [
    "linear_reg.fit(x,y)"
   ]
  },
  {
   "cell_type": "markdown",
   "metadata": {
    "_uuid": "3fea792905847320ef8f27457e856592096344e1"
   },
   "source": [
    "Predicting twenty years experience salary"
   ]
  },
  {
   "cell_type": "code",
   "execution_count": null,
   "metadata": {
    "_uuid": "a5b28585a388d2c949b44b2573046b96f5db8b6f"
   },
   "outputs": [],
   "source": [
    "next_salary = linear_reg.predict([[20]])\n",
    "print(next_salary)"
   ]
  }
 ],
 "metadata": {
  "kernelspec": {
   "display_name": "Python 3",
   "language": "python",
   "name": "python3"
  },
  "language_info": {
   "codemirror_mode": {
    "name": "ipython",
    "version": 3
   },
   "file_extension": ".py",
   "mimetype": "text/x-python",
   "name": "python",
   "nbconvert_exporter": "python",
   "pygments_lexer": "ipython3",
   "version": "3.6.4"
  }
 },
 "nbformat": 4,
 "nbformat_minor": 1
}
