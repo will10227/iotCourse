{
 "cells": [
  {
   "cell_type": "markdown",
   "metadata": {},
   "source": [
    "# HW1: Linear Regression Example (工作經驗到底付多少薪水)"
   ]
  },
  {
   "cell_type": "markdown",
   "metadata": {},
   "source": [
    "# Step1: Import Data and Observe Data"
   ]
  },
  {
   "cell_type": "code",
   "execution_count": 85,
   "metadata": {},
   "outputs": [
    {
     "name": "stdout",
     "output_type": "stream",
     "text": [
      "    x      y\n",
      "0  73   7655\n",
      "1  20   2495\n",
      "2  99  10482\n",
      "3  38   4807\n",
      "4  26   2649\n",
      "    x      y\n",
      "0  73   7655\n",
      "1  20   2495\n",
      "2  99  10482\n",
      "3  38   4807\n",
      "4  26   2649\n",
      "<class 'pandas.core.frame.DataFrame'>\n",
      "RangeIndex: 100 entries, 0 to 99\n",
      "Data columns (total 2 columns):\n",
      "x    100 non-null int64\n",
      "y    100 non-null int64\n",
      "dtypes: int64(2)\n",
      "memory usage: 1.6 KB\n",
      "None\n",
      "                x             y\n",
      "count  100.000000    100.000000\n",
      "mean    52.670000   5820.040000\n",
      "std     28.039674   2809.340844\n",
      "min      2.000000    949.000000\n",
      "25%     31.000000   3467.000000\n",
      "50%     52.500000   5949.500000\n",
      "75%     74.000000   7974.250000\n",
      "max    102.000000  11014.000000\n",
      "Index(['x', 'y'], dtype='object')\n"
     ]
    }
   ],
   "source": [
    "import numpy as np\n",
    "import matplotlib.pyplot as plt\n",
    "import pandas as pd\n",
    "\n",
    "data = pd.read_csv(\"train.csv\")\n",
    "'''\n",
    "df= pd.read_csv('https://archive.ics.uci.edu/ml/machine-learning-databases/housing/housing.data',header=None, sep='\\s+')\n",
    "'''\n",
    "print(data.head())\n",
    "type(data)\n",
    "print(data.head())\n",
    "print(data.info())\n",
    "len(data)\n",
    "print(data.describe())\n",
    "print(data.columns)"
   ]
  },
  {
   "cell_type": "code",
   "execution_count": 86,
   "metadata": {},
   "outputs": [
    {
     "name": "stdout",
     "output_type": "stream",
     "text": [
      "0      73\n",
      "1      20\n",
      "2      99\n",
      "3      38\n",
      "4      26\n",
      "5      31\n",
      "6       2\n",
      "7      45\n",
      "8      81\n",
      "9      39\n",
      "10     28\n",
      "11     12\n",
      "12     56\n",
      "13     70\n",
      "14     19\n",
      "15     18\n",
      "16     70\n",
      "17     70\n",
      "18     64\n",
      "19     38\n",
      "20     40\n",
      "21     98\n",
      "22     48\n",
      "23     78\n",
      "24     22\n",
      "25     53\n",
      "26     48\n",
      "27     54\n",
      "28     50\n",
      "29     33\n",
      "     ... \n",
      "70     63\n",
      "71     21\n",
      "72     66\n",
      "73     11\n",
      "74     73\n",
      "75     97\n",
      "76     62\n",
      "77     89\n",
      "78     12\n",
      "79      9\n",
      "80     59\n",
      "81    101\n",
      "82     27\n",
      "83     69\n",
      "84     37\n",
      "85     87\n",
      "86     81\n",
      "87     78\n",
      "88      4\n",
      "89     23\n",
      "90     64\n",
      "91     90\n",
      "92     92\n",
      "93     31\n",
      "94     10\n",
      "95     22\n",
      "96     87\n",
      "97     68\n",
      "98     28\n",
      "99     44\n",
      "Name: x, Length: 100, dtype: int64\n",
      "0      7655\n",
      "1      2495\n",
      "2     10482\n",
      "3      4807\n",
      "4      2649\n",
      "5      3885\n",
      "6      1207\n",
      "7      4650\n",
      "8      8681\n",
      "9      4255\n",
      "10     2993\n",
      "11     2023\n",
      "12     6478\n",
      "13     7662\n",
      "14     2138\n",
      "15     2655\n",
      "16     7805\n",
      "17     7081\n",
      "18     6976\n",
      "19     4378\n",
      "20     4887\n",
      "21    10819\n",
      "22     5400\n",
      "23     8053\n",
      "24     2238\n",
      "25     6140\n",
      "26     5811\n",
      "27     6118\n",
      "28     5813\n",
      "29     4139\n",
      "      ...  \n",
      "70     6951\n",
      "71     2163\n",
      "72     6708\n",
      "73     1605\n",
      "74     7972\n",
      "75    10246\n",
      "76     6901\n",
      "77     9083\n",
      "78     2101\n",
      "79     1328\n",
      "80     6719\n",
      "81    10205\n",
      "82     3115\n",
      "83     7528\n",
      "84     4457\n",
      "85     9639\n",
      "86     8444\n",
      "87     8687\n",
      "88     1365\n",
      "89     2566\n",
      "90     7366\n",
      "91     9512\n",
      "92     9929\n",
      "93     4085\n",
      "94     2027\n",
      "95     2578\n",
      "96     8740\n",
      "97     7641\n",
      "98     2897\n",
      "99     5375\n",
      "Name: y, Length: 100, dtype: int64\n"
     ]
    },
    {
     "data": {
      "text/plain": [
       "<matplotlib.collections.PathCollection at 0xe194828>"
      ]
     },
     "execution_count": 86,
     "metadata": {},
     "output_type": "execute_result"
    },
    {
     "data": {
      "image/png": "[encoded data removed]",
      "text/plain": [
       "<matplotlib.figure.Figure at 0xe092ac8>"
      ]
     },
     "metadata": {},
     "output_type": "display_data"
    }
   ],
   "source": [
    "x=data.x\n",
    "y =data.y\n",
    "print(x)\n",
    "print(y)\n",
    "plt.scatter(x,y)"
   ]
  },
  {
   "cell_type": "code",
   "execution_count": 87,
   "metadata": {},
   "outputs": [
    {
     "name": "stdout",
     "output_type": "stream",
     "text": [
      "0      73\n",
      "1      20\n",
      "2      99\n",
      "3      38\n",
      "4      26\n",
      "5      31\n",
      "6       2\n",
      "7      45\n",
      "8      81\n",
      "9      39\n",
      "10     28\n",
      "11     12\n",
      "12     56\n",
      "13     70\n",
      "14     19\n",
      "15     18\n",
      "16     70\n",
      "17     70\n",
      "18     64\n",
      "19     38\n",
      "20     40\n",
      "21     98\n",
      "22     48\n",
      "23     78\n",
      "24     22\n",
      "25     53\n",
      "26     48\n",
      "27     54\n",
      "28     50\n",
      "29     33\n",
      "     ... \n",
      "70     63\n",
      "71     21\n",
      "72     66\n",
      "73     11\n",
      "74     73\n",
      "75     97\n",
      "76     62\n",
      "77     89\n",
      "78     12\n",
      "79      9\n",
      "80     59\n",
      "81    101\n",
      "82     27\n",
      "83     69\n",
      "84     37\n",
      "85     87\n",
      "86     81\n",
      "87     78\n",
      "88      4\n",
      "89     23\n",
      "90     64\n",
      "91     90\n",
      "92     92\n",
      "93     31\n",
      "94     10\n",
      "95     22\n",
      "96     87\n",
      "97     68\n",
      "98     28\n",
      "99     44\n",
      "Name: x, Length: 100, dtype: int64\n",
      "<class 'pandas.core.series.Series'>\n"
     ]
    },
    {
     "data": {
      "text/plain": [
       "100"
      ]
     },
     "execution_count": 87,
     "metadata": {},
     "output_type": "execute_result"
    }
   ],
   "source": [
    "print(x)\n",
    "print(type(x))\n",
    "len(x)"
   ]
  },
  {
   "cell_type": "markdown",
   "metadata": {},
   "source": [
    "# Step2: Feture Engineering (Data PreProcessing=data missing, outlier, normalization, find efficient features, split training and validation set, test set )"
   ]
  },
  {
   "cell_type": "code",
   "execution_count": 88,
   "metadata": {},
   "outputs": [
    {
     "data": {
      "text/plain": [
       "<matplotlib.collections.PathCollection at 0xe1ef390>"
      ]
     },
     "execution_count": 88,
     "metadata": {},
     "output_type": "execute_result"
    },
    {
     "data": {
      "image/png": "[encoded data removed]",
      "text/plain": [
       "<matplotlib.figure.Figure at 0xe17a4a8>"
      ]
     },
     "metadata": {},
     "output_type": "display_data"
    }
   ],
   "source": [
    "plt.scatter(x,y)"
   ]
  },
  {
   "cell_type": "code",
   "execution_count": 89,
   "metadata": {},
   "outputs": [
    {
     "name": "stdout",
     "output_type": "stream",
     "text": [
      "          x         y\n",
      "x  1.000000  0.993691\n",
      "y  0.993691  1.000000\n"
     ]
    },
    {
     "data": {
      "image/png": "[encoded data removed]",
      "text/plain": [
       "<matplotlib.figure.Figure at 0xe205048>"
      ]
     },
     "metadata": {},
     "output_type": "display_data"
    }
   ],
   "source": [
    "print(data.corr())\n",
    "plt.matshow(data.corr())\n",
    "plt.show()"
   ]
  },
  {
   "cell_type": "markdown",
   "metadata": {},
   "source": [
    "## Step2.1 Prepare x, y fetures and labels for sklearn"
   ]
  },
  {
   "cell_type": "code",
   "execution_count": 90,
   "metadata": {},
   "outputs": [
    {
     "name": "stdout",
     "output_type": "stream",
     "text": [
      "<class 'numpy.ndarray'>\n",
      "(100, 1)\n",
      "<class 'numpy.ndarray'>\n",
      "(100, 1)\n"
     ]
    }
   ],
   "source": [
    "\n",
    "x=x.values.reshape(-1,1)\n",
    "y=y.values.reshape(-1,1)\n",
    "\n",
    "print(type(x))\n",
    "print(x.shape)\n",
    "print(type(y))\n",
    "print(y.shape)\n"
   ]
  },
  {
   "cell_type": "markdown",
   "metadata": {},
   "source": [
    "# Step 3: Build Prediction Model"
   ]
  },
  {
   "cell_type": "code",
   "execution_count": 91,
   "metadata": {},
   "outputs": [
    {
     "data": {
      "text/plain": [
       "'\\nprint(model)\\na=model.intercept_\\nb=model.coef_\\n'"
      ]
     },
     "execution_count": 91,
     "metadata": {},
     "output_type": "execute_result"
    }
   ],
   "source": [
    "from sklearn.linear_model import LinearRegression as LR\n",
    "model = LR()\n",
    "model.fit(x,y)\n",
    "pre = model.predict(x)\n",
    "\n",
    "'''\n",
    "print(model)\n",
    "a=model.intercept_\n",
    "b=model.coef_\n",
    "'''"
   ]
  },
  {
   "cell_type": "code",
   "execution_count": 92,
   "metadata": {},
   "outputs": [
    {
     "data": {
      "image/png": "[encoded data removed]",
      "text/plain": [
       "<matplotlib.figure.Figure at 0xe0875c0>"
      ]
     },
     "metadata": {},
     "output_type": "display_data"
    }
   ],
   "source": [
    "plt.scatter(x,y)\n",
    "plt.plot(x,pre,'g-')\n",
    "plt.savefig('linearRegression')"
   ]
  },
  {
   "cell_type": "markdown",
   "metadata": {},
   "source": [
    "# Step 4: Performance Evaluation"
   ]
  },
  {
   "cell_type": "code",
   "execution_count": 93,
   "metadata": {},
   "outputs": [
    {
     "data": {
      "text/plain": [
       "0.9874218063980245"
      ]
     },
     "execution_count": 93,
     "metadata": {},
     "output_type": "execute_result"
    }
   ],
   "source": [
    "model.score(x,y)\n"
   ]
  },
  {
   "cell_type": "markdown",
   "metadata": {},
   "source": [
    "# Step 5  write back to file"
   ]
  },
  {
   "cell_type": "code",
   "execution_count": 94,
   "metadata": {
    "scrolled": true
   },
   "outputs": [
    {
     "name": "stdout",
     "output_type": "stream",
     "text": [
      "              0\n",
      "0   7844.085190\n",
      "1   2567.430242\n",
      "2  10432.632901\n",
      "3   4359.501734\n",
      "4   3164.787406\n",
      "5   3662.585043\n",
      "6    775.358751\n",
      "7   5056.418425\n",
      "8   8640.561409\n",
      "9   4459.061262\n"
     ]
    },
    {
     "data": {
      "text/html": [
       "<div>\n",
       "<style scoped>\n",
       "    .dataframe tbody tr th:only-of-type {\n",
       "        vertical-align: middle;\n",
       "    }\n",
       "\n",
       "    .dataframe tbody tr th {\n",
       "        vertical-align: top;\n",
       "    }\n",
       "\n",
       "    .dataframe thead th {\n",
       "        text-align: right;\n",
       "    }\n",
       "</style>\n",
       "<table border=\"1\" class=\"dataframe\">\n",
       "  <thead>\n",
       "    <tr style=\"text-align: right;\">\n",
       "      <th></th>\n",
       "      <th>x</th>\n",
       "      <th>y</th>\n",
       "      <th>pre</th>\n",
       "      <th>myid</th>\n",
       "    </tr>\n",
       "  </thead>\n",
       "  <tbody>\n",
       "    <tr>\n",
       "      <th>0</th>\n",
       "      <td>73</td>\n",
       "      <td>7655</td>\n",
       "      <td>7844.085190</td>\n",
       "      <td>1</td>\n",
       "    </tr>\n",
       "    <tr>\n",
       "      <th>1</th>\n",
       "      <td>20</td>\n",
       "      <td>2495</td>\n",
       "      <td>2567.430242</td>\n",
       "      <td>2</td>\n",
       "    </tr>\n",
       "    <tr>\n",
       "      <th>2</th>\n",
       "      <td>99</td>\n",
       "      <td>10482</td>\n",
       "      <td>10432.632901</td>\n",
       "      <td>3</td>\n",
       "    </tr>\n",
       "    <tr>\n",
       "      <th>3</th>\n",
       "      <td>38</td>\n",
       "      <td>4807</td>\n",
       "      <td>4359.501734</td>\n",
       "      <td>4</td>\n",
       "    </tr>\n",
       "    <tr>\n",
       "      <th>4</th>\n",
       "      <td>26</td>\n",
       "      <td>2649</td>\n",
       "      <td>3164.787406</td>\n",
       "      <td>5</td>\n",
       "    </tr>\n",
       "    <tr>\n",
       "      <th>5</th>\n",
       "      <td>31</td>\n",
       "      <td>3885</td>\n",
       "      <td>3662.585043</td>\n",
       "      <td>6</td>\n",
       "    </tr>\n",
       "    <tr>\n",
       "      <th>6</th>\n",
       "      <td>2</td>\n",
       "      <td>1207</td>\n",
       "      <td>775.358751</td>\n",
       "      <td>7</td>\n",
       "    </tr>\n",
       "    <tr>\n",
       "      <th>7</th>\n",
       "      <td>45</td>\n",
       "      <td>4650</td>\n",
       "      <td>5056.418425</td>\n",
       "      <td>8</td>\n",
       "    </tr>\n",
       "    <tr>\n",
       "      <th>8</th>\n",
       "      <td>81</td>\n",
       "      <td>8681</td>\n",
       "      <td>8640.561409</td>\n",
       "      <td>9</td>\n",
       "    </tr>\n",
       "    <tr>\n",
       "      <th>9</th>\n",
       "      <td>39</td>\n",
       "      <td>4255</td>\n",
       "      <td>4459.061262</td>\n",
       "      <td>10</td>\n",
       "    </tr>\n",
       "    <tr>\n",
       "      <th>10</th>\n",
       "      <td>28</td>\n",
       "      <td>2993</td>\n",
       "      <td>3363.906461</td>\n",
       "      <td>11</td>\n",
       "    </tr>\n",
       "    <tr>\n",
       "      <th>11</th>\n",
       "      <td>12</td>\n",
       "      <td>2023</td>\n",
       "      <td>1770.954024</td>\n",
       "      <td>12</td>\n",
       "    </tr>\n",
       "    <tr>\n",
       "      <th>12</th>\n",
       "      <td>56</td>\n",
       "      <td>6478</td>\n",
       "      <td>6151.573226</td>\n",
       "      <td>13</td>\n",
       "    </tr>\n",
       "    <tr>\n",
       "      <th>13</th>\n",
       "      <td>70</td>\n",
       "      <td>7662</td>\n",
       "      <td>7545.406608</td>\n",
       "      <td>14</td>\n",
       "    </tr>\n",
       "    <tr>\n",
       "      <th>14</th>\n",
       "      <td>19</td>\n",
       "      <td>2138</td>\n",
       "      <td>2467.870715</td>\n",
       "      <td>15</td>\n",
       "    </tr>\n",
       "    <tr>\n",
       "      <th>15</th>\n",
       "      <td>18</td>\n",
       "      <td>2655</td>\n",
       "      <td>2368.311188</td>\n",
       "      <td>16</td>\n",
       "    </tr>\n",
       "    <tr>\n",
       "      <th>16</th>\n",
       "      <td>70</td>\n",
       "      <td>7805</td>\n",
       "      <td>7545.406608</td>\n",
       "      <td>17</td>\n",
       "    </tr>\n",
       "    <tr>\n",
       "      <th>17</th>\n",
       "      <td>70</td>\n",
       "      <td>7081</td>\n",
       "      <td>7545.406608</td>\n",
       "      <td>18</td>\n",
       "    </tr>\n",
       "    <tr>\n",
       "      <th>18</th>\n",
       "      <td>64</td>\n",
       "      <td>6976</td>\n",
       "      <td>6948.049445</td>\n",
       "      <td>19</td>\n",
       "    </tr>\n",
       "    <tr>\n",
       "      <th>19</th>\n",
       "      <td>38</td>\n",
       "      <td>4378</td>\n",
       "      <td>4359.501734</td>\n",
       "      <td>20</td>\n",
       "    </tr>\n",
       "    <tr>\n",
       "      <th>20</th>\n",
       "      <td>40</td>\n",
       "      <td>4887</td>\n",
       "      <td>4558.620789</td>\n",
       "      <td>21</td>\n",
       "    </tr>\n",
       "    <tr>\n",
       "      <th>21</th>\n",
       "      <td>98</td>\n",
       "      <td>10819</td>\n",
       "      <td>10333.073373</td>\n",
       "      <td>22</td>\n",
       "    </tr>\n",
       "    <tr>\n",
       "      <th>22</th>\n",
       "      <td>48</td>\n",
       "      <td>5400</td>\n",
       "      <td>5355.097007</td>\n",
       "      <td>23</td>\n",
       "    </tr>\n",
       "    <tr>\n",
       "      <th>23</th>\n",
       "      <td>78</td>\n",
       "      <td>8053</td>\n",
       "      <td>8341.882827</td>\n",
       "      <td>24</td>\n",
       "    </tr>\n",
       "    <tr>\n",
       "      <th>24</th>\n",
       "      <td>22</td>\n",
       "      <td>2238</td>\n",
       "      <td>2766.549297</td>\n",
       "      <td>25</td>\n",
       "    </tr>\n",
       "    <tr>\n",
       "      <th>25</th>\n",
       "      <td>53</td>\n",
       "      <td>6140</td>\n",
       "      <td>5852.894644</td>\n",
       "      <td>26</td>\n",
       "    </tr>\n",
       "    <tr>\n",
       "      <th>26</th>\n",
       "      <td>48</td>\n",
       "      <td>5811</td>\n",
       "      <td>5355.097007</td>\n",
       "      <td>27</td>\n",
       "    </tr>\n",
       "    <tr>\n",
       "      <th>27</th>\n",
       "      <td>54</td>\n",
       "      <td>6118</td>\n",
       "      <td>5952.454171</td>\n",
       "      <td>28</td>\n",
       "    </tr>\n",
       "    <tr>\n",
       "      <th>28</th>\n",
       "      <td>50</td>\n",
       "      <td>5813</td>\n",
       "      <td>5554.216062</td>\n",
       "      <td>29</td>\n",
       "    </tr>\n",
       "    <tr>\n",
       "      <th>29</th>\n",
       "      <td>33</td>\n",
       "      <td>4139</td>\n",
       "      <td>3861.704098</td>\n",
       "      <td>30</td>\n",
       "    </tr>\n",
       "    <tr>\n",
       "      <th>...</th>\n",
       "      <td>...</td>\n",
       "      <td>...</td>\n",
       "      <td>...</td>\n",
       "      <td>...</td>\n",
       "    </tr>\n",
       "    <tr>\n",
       "      <th>70</th>\n",
       "      <td>63</td>\n",
       "      <td>6951</td>\n",
       "      <td>6848.489917</td>\n",
       "      <td>71</td>\n",
       "    </tr>\n",
       "    <tr>\n",
       "      <th>71</th>\n",
       "      <td>21</td>\n",
       "      <td>2163</td>\n",
       "      <td>2666.989770</td>\n",
       "      <td>72</td>\n",
       "    </tr>\n",
       "    <tr>\n",
       "      <th>72</th>\n",
       "      <td>66</td>\n",
       "      <td>6708</td>\n",
       "      <td>7147.168499</td>\n",
       "      <td>73</td>\n",
       "    </tr>\n",
       "    <tr>\n",
       "      <th>73</th>\n",
       "      <td>11</td>\n",
       "      <td>1605</td>\n",
       "      <td>1671.394497</td>\n",
       "      <td>74</td>\n",
       "    </tr>\n",
       "    <tr>\n",
       "      <th>74</th>\n",
       "      <td>73</td>\n",
       "      <td>7972</td>\n",
       "      <td>7844.085190</td>\n",
       "      <td>75</td>\n",
       "    </tr>\n",
       "    <tr>\n",
       "      <th>75</th>\n",
       "      <td>97</td>\n",
       "      <td>10246</td>\n",
       "      <td>10233.513846</td>\n",
       "      <td>76</td>\n",
       "    </tr>\n",
       "    <tr>\n",
       "      <th>76</th>\n",
       "      <td>62</td>\n",
       "      <td>6901</td>\n",
       "      <td>6748.930390</td>\n",
       "      <td>77</td>\n",
       "    </tr>\n",
       "    <tr>\n",
       "      <th>77</th>\n",
       "      <td>89</td>\n",
       "      <td>9083</td>\n",
       "      <td>9437.037628</td>\n",
       "      <td>78</td>\n",
       "    </tr>\n",
       "    <tr>\n",
       "      <th>78</th>\n",
       "      <td>12</td>\n",
       "      <td>2101</td>\n",
       "      <td>1770.954024</td>\n",
       "      <td>79</td>\n",
       "    </tr>\n",
       "    <tr>\n",
       "      <th>79</th>\n",
       "      <td>9</td>\n",
       "      <td>1328</td>\n",
       "      <td>1472.275442</td>\n",
       "      <td>80</td>\n",
       "    </tr>\n",
       "    <tr>\n",
       "      <th>80</th>\n",
       "      <td>59</td>\n",
       "      <td>6719</td>\n",
       "      <td>6450.251808</td>\n",
       "      <td>81</td>\n",
       "    </tr>\n",
       "    <tr>\n",
       "      <th>81</th>\n",
       "      <td>101</td>\n",
       "      <td>10205</td>\n",
       "      <td>10631.751955</td>\n",
       "      <td>82</td>\n",
       "    </tr>\n",
       "    <tr>\n",
       "      <th>82</th>\n",
       "      <td>27</td>\n",
       "      <td>3115</td>\n",
       "      <td>3264.346934</td>\n",
       "      <td>83</td>\n",
       "    </tr>\n",
       "    <tr>\n",
       "      <th>83</th>\n",
       "      <td>69</td>\n",
       "      <td>7528</td>\n",
       "      <td>7445.847081</td>\n",
       "      <td>84</td>\n",
       "    </tr>\n",
       "    <tr>\n",
       "      <th>84</th>\n",
       "      <td>37</td>\n",
       "      <td>4457</td>\n",
       "      <td>4259.942207</td>\n",
       "      <td>85</td>\n",
       "    </tr>\n",
       "    <tr>\n",
       "      <th>85</th>\n",
       "      <td>87</td>\n",
       "      <td>9639</td>\n",
       "      <td>9237.918573</td>\n",
       "      <td>86</td>\n",
       "    </tr>\n",
       "    <tr>\n",
       "      <th>86</th>\n",
       "      <td>81</td>\n",
       "      <td>8444</td>\n",
       "      <td>8640.561409</td>\n",
       "      <td>87</td>\n",
       "    </tr>\n",
       "    <tr>\n",
       "      <th>87</th>\n",
       "      <td>78</td>\n",
       "      <td>8687</td>\n",
       "      <td>8341.882827</td>\n",
       "      <td>88</td>\n",
       "    </tr>\n",
       "    <tr>\n",
       "      <th>88</th>\n",
       "      <td>4</td>\n",
       "      <td>1365</td>\n",
       "      <td>974.477805</td>\n",
       "      <td>89</td>\n",
       "    </tr>\n",
       "    <tr>\n",
       "      <th>89</th>\n",
       "      <td>23</td>\n",
       "      <td>2566</td>\n",
       "      <td>2866.108824</td>\n",
       "      <td>90</td>\n",
       "    </tr>\n",
       "    <tr>\n",
       "      <th>90</th>\n",
       "      <td>64</td>\n",
       "      <td>7366</td>\n",
       "      <td>6948.049445</td>\n",
       "      <td>91</td>\n",
       "    </tr>\n",
       "    <tr>\n",
       "      <th>91</th>\n",
       "      <td>90</td>\n",
       "      <td>9512</td>\n",
       "      <td>9536.597155</td>\n",
       "      <td>92</td>\n",
       "    </tr>\n",
       "    <tr>\n",
       "      <th>92</th>\n",
       "      <td>92</td>\n",
       "      <td>9929</td>\n",
       "      <td>9735.716209</td>\n",
       "      <td>93</td>\n",
       "    </tr>\n",
       "    <tr>\n",
       "      <th>93</th>\n",
       "      <td>31</td>\n",
       "      <td>4085</td>\n",
       "      <td>3662.585043</td>\n",
       "      <td>94</td>\n",
       "    </tr>\n",
       "    <tr>\n",
       "      <th>94</th>\n",
       "      <td>10</td>\n",
       "      <td>2027</td>\n",
       "      <td>1571.834969</td>\n",
       "      <td>95</td>\n",
       "    </tr>\n",
       "    <tr>\n",
       "      <th>95</th>\n",
       "      <td>22</td>\n",
       "      <td>2578</td>\n",
       "      <td>2766.549297</td>\n",
       "      <td>96</td>\n",
       "    </tr>\n",
       "    <tr>\n",
       "      <th>96</th>\n",
       "      <td>87</td>\n",
       "      <td>8740</td>\n",
       "      <td>9237.918573</td>\n",
       "      <td>97</td>\n",
       "    </tr>\n",
       "    <tr>\n",
       "      <th>97</th>\n",
       "      <td>68</td>\n",
       "      <td>7641</td>\n",
       "      <td>7346.287554</td>\n",
       "      <td>98</td>\n",
       "    </tr>\n",
       "    <tr>\n",
       "      <th>98</th>\n",
       "      <td>28</td>\n",
       "      <td>2897</td>\n",
       "      <td>3363.906461</td>\n",
       "      <td>99</td>\n",
       "    </tr>\n",
       "    <tr>\n",
       "      <th>99</th>\n",
       "      <td>44</td>\n",
       "      <td>5375</td>\n",
       "      <td>4956.858898</td>\n",
       "      <td>100</td>\n",
       "    </tr>\n",
       "  </tbody>\n",
       "</table>\n",
       "<p>100 rows × 4 columns</p>\n",
       "</div>"
      ],
      "text/plain": [
       "      x      y           pre  myid\n",
       "0    73   7655   7844.085190     1\n",
       "1    20   2495   2567.430242     2\n",
       "2    99  10482  10432.632901     3\n",
       "3    38   4807   4359.501734     4\n",
       "4    26   2649   3164.787406     5\n",
       "5    31   3885   3662.585043     6\n",
       "6     2   1207    775.358751     7\n",
       "7    45   4650   5056.418425     8\n",
       "8    81   8681   8640.561409     9\n",
       "9    39   4255   4459.061262    10\n",
       "10   28   2993   3363.906461    11\n",
       "11   12   2023   1770.954024    12\n",
       "12   56   6478   6151.573226    13\n",
       "13   70   7662   7545.406608    14\n",
       "14   19   2138   2467.870715    15\n",
       "15   18   2655   2368.311188    16\n",
       "16   70   7805   7545.406608    17\n",
       "17   70   7081   7545.406608    18\n",
       "18   64   6976   6948.049445    19\n",
       "19   38   4378   4359.501734    20\n",
       "20   40   4887   4558.620789    21\n",
       "21   98  10819  10333.073373    22\n",
       "22   48   5400   5355.097007    23\n",
       "23   78   8053   8341.882827    24\n",
       "24   22   2238   2766.549297    25\n",
       "25   53   6140   5852.894644    26\n",
       "26   48   5811   5355.097007    27\n",
       "27   54   6118   5952.454171    28\n",
       "28   50   5813   5554.216062    29\n",
       "29   33   4139   3861.704098    30\n",
       "..  ...    ...           ...   ...\n",
       "70   63   6951   6848.489917    71\n",
       "71   21   2163   2666.989770    72\n",
       "72   66   6708   7147.168499    73\n",
       "73   11   1605   1671.394497    74\n",
       "74   73   7972   7844.085190    75\n",
       "75   97  10246  10233.513846    76\n",
       "76   62   6901   6748.930390    77\n",
       "77   89   9083   9437.037628    78\n",
       "78   12   2101   1770.954024    79\n",
       "79    9   1328   1472.275442    80\n",
       "80   59   6719   6450.251808    81\n",
       "81  101  10205  10631.751955    82\n",
       "82   27   3115   3264.346934    83\n",
       "83   69   7528   7445.847081    84\n",
       "84   37   4457   4259.942207    85\n",
       "85   87   9639   9237.918573    86\n",
       "86   81   8444   8640.561409    87\n",
       "87   78   8687   8341.882827    88\n",
       "88    4   1365    974.477805    89\n",
       "89   23   2566   2866.108824    90\n",
       "90   64   7366   6948.049445    91\n",
       "91   90   9512   9536.597155    92\n",
       "92   92   9929   9735.716209    93\n",
       "93   31   4085   3662.585043    94\n",
       "94   10   2027   1571.834969    95\n",
       "95   22   2578   2766.549297    96\n",
       "96   87   8740   9237.918573    97\n",
       "97   68   7641   7346.287554    98\n",
       "98   28   2897   3363.906461    99\n",
       "99   44   5375   4956.858898   100\n",
       "\n",
       "[100 rows x 4 columns]"
      ]
     },
     "execution_count": 94,
     "metadata": {},
     "output_type": "execute_result"
    }
   ],
   "source": [
    "from pandas import Series,DataFrame\n",
    "\n",
    "pre=pd.DataFrame(pre)\n",
    "data['pre']=pre\n",
    "iid =list(range(1,len(pre)+1))\n",
    "data['myid']=DataFrame(iid)\n",
    "\n",
    "type(pre)\n",
    "print(pre[:10])\n",
    "data"
   ]
  },
  {
   "cell_type": "code",
   "execution_count": 96,
   "metadata": {},
   "outputs": [],
   "source": [
    "data.to_csv('results1.csv')"
   ]
  },
  {
   "cell_type": "code",
   "execution_count": 97,
   "metadata": {},
   "outputs": [
    {
     "data": {
      "text/plain": [
       "[(0, 73, 7655, 7844.085190408411, 1),\n",
       " (1, 20, 2495, 2567.4302424671514, 2),\n",
       " (2, 99, 10482, 10432.632900719218, 3),\n",
       " (3, 38, 4807, 4359.501734220787, 4),\n",
       " (4, 26, 2649, 3164.78740638503, 5),\n",
       " (5, 31, 3885, 3662.585042983262, 6),\n",
       " (6, 2, 1207, 775.3587507135163, 7),\n",
       " (7, 45, 4650, 5056.4184254583115, 8),\n",
       " (8, 81, 8681, 8640.561408965583, 9),\n",
       " (9, 39, 4255, 4459.061261540433, 10),\n",
       " (10, 28, 2993, 3363.906461024323, 11),\n",
       " (11, 12, 2023, 1770.9540239099804, 12),\n",
       " (12, 56, 6478, 6151.573225974423, 13),\n",
       " (13, 70, 7662, 7545.406608449472, 14),\n",
       " (14, 19, 2138, 2467.8707151475055, 15),\n",
       " (15, 18, 2655, 2368.3111878278587, 16),\n",
       " (16, 70, 7805, 7545.406608449472, 17),\n",
       " (17, 70, 7081, 7545.406608449472, 18),\n",
       " (18, 64, 6976, 6948.0494445315935, 19),\n",
       " (19, 38, 4378, 4359.501734220787, 20),\n",
       " (20, 40, 4887, 4558.62078886008, 21),\n",
       " (21, 98, 10819, 10333.073373399573, 22),\n",
       " (22, 48, 5400, 5355.097007417251, 23),\n",
       " (23, 78, 8053, 8341.882827006644, 24),\n",
       " (24, 22, 2238, 2766.5492971064446, 25),\n",
       " (25, 53, 6140, 5852.894644015483, 26),\n",
       " (26, 48, 5811, 5355.097007417251, 27),\n",
       " (27, 54, 6118, 5952.454171335129, 28),\n",
       " (28, 50, 5813, 5554.216062056544, 29),\n",
       " (29, 33, 4139, 3861.704097622555, 30),\n",
       " (30, 84, 9287, 8939.239990924521, 31),\n",
       " (31, 34, 3984, 3961.263624942201, 32),\n",
       " (32, 102, 11014, 10731.311482678157, 33),\n",
       " (33, 52, 6086, 5753.335116695836, 34),\n",
       " (34, 85, 8910, 9038.799518244166, 35),\n",
       " (35, 71, 7849, 7644.966135769118, 36),\n",
       " (36, 70, 7385, 7545.406608449472, 37),\n",
       " (37, 35, 4385, 4060.8231522618476, 38),\n",
       " (38, 39, 4766, 4459.061261540433, 39),\n",
       " (39, 35, 4320, 4060.8231522618476, 40),\n",
       " (40, 96, 10616, 10133.95431876028, 41),\n",
       " (41, 63, 6665, 6848.489917211947, 42),\n",
       " (42, 8, 984, 1372.7159146313948, 43),\n",
       " (43, 21, 2274, 2666.989769786798, 44),\n",
       " (44, 60, 6789, 6549.811335253008, 45),\n",
       " (45, 67, 6809, 7246.728026490533, 46),\n",
       " (46, 54, 5628, 5952.454171335129, 47),\n",
       " (47, 79, 7981, 8441.44235432629, 48),\n",
       " (48, 6, 949, 1173.596859992102, 49),\n",
       " (49, 74, 8316, 7943.644717728058, 50),\n",
       " (50, 39, 4612, 4459.061261540433, 51),\n",
       " (51, 37, 3815, 4259.942206901141, 52),\n",
       " (52, 39, 3936, 4459.061261540433, 53),\n",
       " (53, 34, 3533, 3961.263624942201, 54),\n",
       " (54, 13, 1825, 1870.5135512296267, 55),\n",
       " (55, 68, 7411, 7346.287553810179, 56),\n",
       " (56, 40, 4903, 4558.62078886008, 57),\n",
       " (57, 98, 10027, 10333.073373399573, 58),\n",
       " (58, 74, 7462, 7943.644717728058, 59),\n",
       " (59, 17, 2506, 2268.7516605082124, 60),\n",
       " (60, 88, 9006, 9337.478100203109, 61),\n",
       " (61, 31, 3269, 3662.585042983262, 62),\n",
       " (62, 15, 2294, 2069.6326058689197, 63),\n",
       " (63, 67, 7063, 7246.728026490533, 64),\n",
       " (64, 94, 10000, 9934.835264120986, 65),\n",
       " (65, 90, 9387, 9536.597154842399, 66),\n",
       " (66, 99, 10076, 10432.632900719218, 67),\n",
       " (67, 50, 5562, 5554.216062056544, 68),\n",
       " (68, 75, 8273, 8043.204245047704, 69),\n",
       " (69, 36, 3741, 4160.382679581494, 70),\n",
       " (70, 63, 6951, 6848.489917211947, 71),\n",
       " (71, 21, 2163, 2666.989769786798, 72),\n",
       " (72, 66, 6708, 7147.168499170886, 73),\n",
       " (73, 11, 1605, 1671.394496590334, 74),\n",
       " (74, 73, 7972, 7844.085190408411, 75),\n",
       " (75, 97, 10246, 10233.513846079924, 76),\n",
       " (76, 62, 6901, 6748.930389892301, 77),\n",
       " (77, 89, 9083, 9437.037627522754, 78),\n",
       " (78, 12, 2101, 1770.9540239099804, 79),\n",
       " (79, 9, 1328, 1472.275441951041, 80),\n",
       " (80, 59, 6719, 6450.251807933361, 81),\n",
       " (81, 101, 10205, 10631.751955358512, 82),\n",
       " (82, 27, 3115, 3264.3469337046763, 83),\n",
       " (83, 69, 7528, 7445.847081129826, 84),\n",
       " (84, 37, 4457, 4259.942206901141, 85),\n",
       " (85, 87, 9639, 9237.91857288346, 86),\n",
       " (86, 81, 8444, 8640.561408965583, 87),\n",
       " (87, 78, 8687, 8341.882827006644, 88),\n",
       " (88, 4, 1365, 974.4778053528091, 89),\n",
       " (89, 23, 2566, 2866.108824426091, 90),\n",
       " (90, 64, 7366, 6948.0494445315935, 91),\n",
       " (91, 90, 9512, 9536.597154842399, 92),\n",
       " (92, 92, 9929, 9735.716209481692, 93),\n",
       " (93, 31, 4085, 3662.585042983262, 94),\n",
       " (94, 10, 2027, 1571.8349692706875, 95),\n",
       " (95, 22, 2578, 2766.5492971064446, 96),\n",
       " (96, 87, 8740, 9237.91857288346, 97),\n",
       " (97, 68, 7641, 7346.287553810179, 98),\n",
       " (98, 28, 2897, 3363.906461024323, 99),\n",
       " (99, 44, 5375, 4956.858898138666, 100)]"
      ]
     },
     "execution_count": 97,
     "metadata": {},
     "output_type": "execute_result"
    }
   ],
   "source": [
    "from sqlalchemy import create_engine\n",
    "engine = create_engine('sqlite://', echo=False)\n",
    "data.to_sql('pm25sql', con=engine)\n",
    "engine.execute(\"SELECT * FROM pm25sql\").fetchall()\n",
    "#[(0, 'User 1'), (1, 'User 2'), (2, 'User 3')]"
   ]
  },
  {
   "cell_type": "code",
   "execution_count": 100,
   "metadata": {},
   "outputs": [
    {
     "ename": "DatabaseError",
     "evalue": "Execution failed on sql 'select * from light': no such table: light",
     "output_type": "error",
     "traceback": [
      "\u001b[1;31m---------------------------------------------------------------------------\u001b[0m",
      "\u001b[1;31mOperationalError\u001b[0m                          Traceback (most recent call last)",
      "\u001b[1;32mC:\\ProgramData\\Anaconda3\\lib\\site-packages\\pandas\\io\\sql.py\u001b[0m in \u001b[0;36mexecute\u001b[1;34m(self, *args, **kwargs)\u001b[0m\n\u001b[0;32m   1408\u001b[0m             \u001b[1;32melse\u001b[0m\u001b[1;33m:\u001b[0m\u001b[1;33m\u001b[0m\u001b[0m\n\u001b[1;32m-> 1409\u001b[1;33m                 \u001b[0mcur\u001b[0m\u001b[1;33m.\u001b[0m\u001b[0mexecute\u001b[0m\u001b[1;33m(\u001b[0m\u001b[1;33m*\u001b[0m\u001b[0margs\u001b[0m\u001b[1;33m)\u001b[0m\u001b[1;33m\u001b[0m\u001b[0m\n\u001b[0m\u001b[0;32m   1410\u001b[0m             \u001b[1;32mreturn\u001b[0m \u001b[0mcur\u001b[0m\u001b[1;33m\u001b[0m\u001b[0m\n",
      "\u001b[1;31mOperationalError\u001b[0m: no such table: light",
      "\nDuring handling of the above exception, another exception occurred:\n",
      "\u001b[1;31mDatabaseError\u001b[0m                             Traceback (most recent call last)",
      "\u001b[1;32m<ipython-input-100-cdbdc8a123c1>\u001b[0m in \u001b[0;36m<module>\u001b[1;34m()\u001b[0m\n\u001b[0;32m      5\u001b[0m \u001b[1;33m\u001b[0m\u001b[0m\n\u001b[0;32m      6\u001b[0m \u001b[0mdata\u001b[0m\u001b[1;33m.\u001b[0m\u001b[0mto_sql\u001b[0m\u001b[1;33m(\u001b[0m\u001b[1;34m'pm25'\u001b[0m\u001b[1;33m,\u001b[0m \u001b[0mconn\u001b[0m\u001b[1;33m,\u001b[0m \u001b[0mif_exists\u001b[0m\u001b[1;33m=\u001b[0m\u001b[1;34m'replace'\u001b[0m\u001b[1;33m)\u001b[0m\u001b[1;33m\u001b[0m\u001b[0m\n\u001b[1;32m----> 7\u001b[1;33m \u001b[0mtempdata\u001b[0m \u001b[1;33m=\u001b[0m \u001b[0mpd\u001b[0m\u001b[1;33m.\u001b[0m\u001b[0mread_sql\u001b[0m\u001b[1;33m(\u001b[0m\u001b[1;34m'select * from light'\u001b[0m\u001b[1;33m,\u001b[0m \u001b[0mconn\u001b[0m\u001b[1;33m,\u001b[0m \u001b[0mindex_col\u001b[0m\u001b[1;33m=\u001b[0m\u001b[1;33m[\u001b[0m\u001b[1;34m'myid'\u001b[0m\u001b[1;33m]\u001b[0m\u001b[1;33m)\u001b[0m\u001b[1;33m\u001b[0m\u001b[0m\n\u001b[0m\u001b[0;32m      8\u001b[0m \u001b[0mtempdata\u001b[0m\u001b[1;33m.\u001b[0m\u001b[0mhead\u001b[0m\u001b[1;33m(\u001b[0m\u001b[1;33m)\u001b[0m\u001b[1;33m\u001b[0m\u001b[0m\n\u001b[0;32m      9\u001b[0m \u001b[0mconn\u001b[0m\u001b[1;33m.\u001b[0m\u001b[0mclose\u001b[0m\u001b[1;33m(\u001b[0m\u001b[1;33m)\u001b[0m\u001b[1;33m\u001b[0m\u001b[0m\n",
      "\u001b[1;32mC:\\ProgramData\\Anaconda3\\lib\\site-packages\\pandas\\io\\sql.py\u001b[0m in \u001b[0;36mread_sql\u001b[1;34m(sql, con, index_col, coerce_float, params, parse_dates, columns, chunksize)\u001b[0m\n\u001b[0;32m    398\u001b[0m             \u001b[0msql\u001b[0m\u001b[1;33m,\u001b[0m \u001b[0mindex_col\u001b[0m\u001b[1;33m=\u001b[0m\u001b[0mindex_col\u001b[0m\u001b[1;33m,\u001b[0m \u001b[0mparams\u001b[0m\u001b[1;33m=\u001b[0m\u001b[0mparams\u001b[0m\u001b[1;33m,\u001b[0m\u001b[1;33m\u001b[0m\u001b[0m\n\u001b[0;32m    399\u001b[0m             \u001b[0mcoerce_float\u001b[0m\u001b[1;33m=\u001b[0m\u001b[0mcoerce_float\u001b[0m\u001b[1;33m,\u001b[0m \u001b[0mparse_dates\u001b[0m\u001b[1;33m=\u001b[0m\u001b[0mparse_dates\u001b[0m\u001b[1;33m,\u001b[0m\u001b[1;33m\u001b[0m\u001b[0m\n\u001b[1;32m--> 400\u001b[1;33m             chunksize=chunksize)\n\u001b[0m\u001b[0;32m    401\u001b[0m \u001b[1;33m\u001b[0m\u001b[0m\n\u001b[0;32m    402\u001b[0m     \u001b[1;32mtry\u001b[0m\u001b[1;33m:\u001b[0m\u001b[1;33m\u001b[0m\u001b[0m\n",
      "\u001b[1;32mC:\\ProgramData\\Anaconda3\\lib\\site-packages\\pandas\\io\\sql.py\u001b[0m in \u001b[0;36mread_query\u001b[1;34m(self, sql, index_col, coerce_float, params, parse_dates, chunksize)\u001b[0m\n\u001b[0;32m   1442\u001b[0m \u001b[1;33m\u001b[0m\u001b[0m\n\u001b[0;32m   1443\u001b[0m         \u001b[0margs\u001b[0m \u001b[1;33m=\u001b[0m \u001b[0m_convert_params\u001b[0m\u001b[1;33m(\u001b[0m\u001b[0msql\u001b[0m\u001b[1;33m,\u001b[0m \u001b[0mparams\u001b[0m\u001b[1;33m)\u001b[0m\u001b[1;33m\u001b[0m\u001b[0m\n\u001b[1;32m-> 1444\u001b[1;33m         \u001b[0mcursor\u001b[0m \u001b[1;33m=\u001b[0m \u001b[0mself\u001b[0m\u001b[1;33m.\u001b[0m\u001b[0mexecute\u001b[0m\u001b[1;33m(\u001b[0m\u001b[1;33m*\u001b[0m\u001b[0margs\u001b[0m\u001b[1;33m)\u001b[0m\u001b[1;33m\u001b[0m\u001b[0m\n\u001b[0m\u001b[0;32m   1445\u001b[0m         \u001b[0mcolumns\u001b[0m \u001b[1;33m=\u001b[0m \u001b[1;33m[\u001b[0m\u001b[0mcol_desc\u001b[0m\u001b[1;33m[\u001b[0m\u001b[1;36m0\u001b[0m\u001b[1;33m]\u001b[0m \u001b[1;32mfor\u001b[0m \u001b[0mcol_desc\u001b[0m \u001b[1;32min\u001b[0m \u001b[0mcursor\u001b[0m\u001b[1;33m.\u001b[0m\u001b[0mdescription\u001b[0m\u001b[1;33m]\u001b[0m\u001b[1;33m\u001b[0m\u001b[0m\n\u001b[0;32m   1446\u001b[0m \u001b[1;33m\u001b[0m\u001b[0m\n",
      "\u001b[1;32mC:\\ProgramData\\Anaconda3\\lib\\site-packages\\pandas\\io\\sql.py\u001b[0m in \u001b[0;36mexecute\u001b[1;34m(self, *args, **kwargs)\u001b[0m\n\u001b[0;32m   1419\u001b[0m             ex = DatabaseError(\n\u001b[0;32m   1420\u001b[0m                 \"Execution failed on sql '%s': %s\" % (args[0], exc))\n\u001b[1;32m-> 1421\u001b[1;33m             \u001b[0mraise_with_traceback\u001b[0m\u001b[1;33m(\u001b[0m\u001b[0mex\u001b[0m\u001b[1;33m)\u001b[0m\u001b[1;33m\u001b[0m\u001b[0m\n\u001b[0m\u001b[0;32m   1422\u001b[0m \u001b[1;33m\u001b[0m\u001b[0m\n\u001b[0;32m   1423\u001b[0m     \u001b[1;33m@\u001b[0m\u001b[0mstaticmethod\u001b[0m\u001b[1;33m\u001b[0m\u001b[0m\n",
      "\u001b[1;32mC:\\ProgramData\\Anaconda3\\lib\\site-packages\\pandas\\compat\\__init__.py\u001b[0m in \u001b[0;36mraise_with_traceback\u001b[1;34m(exc, traceback)\u001b[0m\n\u001b[0;32m    383\u001b[0m         \u001b[1;32mif\u001b[0m \u001b[0mtraceback\u001b[0m \u001b[1;33m==\u001b[0m \u001b[0mEllipsis\u001b[0m\u001b[1;33m:\u001b[0m\u001b[1;33m\u001b[0m\u001b[0m\n\u001b[0;32m    384\u001b[0m             \u001b[0m_\u001b[0m\u001b[1;33m,\u001b[0m \u001b[0m_\u001b[0m\u001b[1;33m,\u001b[0m \u001b[0mtraceback\u001b[0m \u001b[1;33m=\u001b[0m \u001b[0msys\u001b[0m\u001b[1;33m.\u001b[0m\u001b[0mexc_info\u001b[0m\u001b[1;33m(\u001b[0m\u001b[1;33m)\u001b[0m\u001b[1;33m\u001b[0m\u001b[0m\n\u001b[1;32m--> 385\u001b[1;33m         \u001b[1;32mraise\u001b[0m \u001b[0mexc\u001b[0m\u001b[1;33m.\u001b[0m\u001b[0mwith_traceback\u001b[0m\u001b[1;33m(\u001b[0m\u001b[0mtraceback\u001b[0m\u001b[1;33m)\u001b[0m\u001b[1;33m\u001b[0m\u001b[0m\n\u001b[0m\u001b[0;32m    386\u001b[0m \u001b[1;32melse\u001b[0m\u001b[1;33m:\u001b[0m\u001b[1;33m\u001b[0m\u001b[0m\n\u001b[0;32m    387\u001b[0m     \u001b[1;31m# this version of raise is a syntax error in Python 3\u001b[0m\u001b[1;33m\u001b[0m\u001b[1;33m\u001b[0m\u001b[0m\n",
      "\u001b[1;32mC:\\ProgramData\\Anaconda3\\lib\\site-packages\\pandas\\io\\sql.py\u001b[0m in \u001b[0;36mexecute\u001b[1;34m(self, *args, **kwargs)\u001b[0m\n\u001b[0;32m   1407\u001b[0m                 \u001b[0mcur\u001b[0m\u001b[1;33m.\u001b[0m\u001b[0mexecute\u001b[0m\u001b[1;33m(\u001b[0m\u001b[1;33m*\u001b[0m\u001b[0margs\u001b[0m\u001b[1;33m,\u001b[0m \u001b[1;33m**\u001b[0m\u001b[0mkwargs\u001b[0m\u001b[1;33m)\u001b[0m\u001b[1;33m\u001b[0m\u001b[0m\n\u001b[0;32m   1408\u001b[0m             \u001b[1;32melse\u001b[0m\u001b[1;33m:\u001b[0m\u001b[1;33m\u001b[0m\u001b[0m\n\u001b[1;32m-> 1409\u001b[1;33m                 \u001b[0mcur\u001b[0m\u001b[1;33m.\u001b[0m\u001b[0mexecute\u001b[0m\u001b[1;33m(\u001b[0m\u001b[1;33m*\u001b[0m\u001b[0margs\u001b[0m\u001b[1;33m)\u001b[0m\u001b[1;33m\u001b[0m\u001b[0m\n\u001b[0m\u001b[0;32m   1410\u001b[0m             \u001b[1;32mreturn\u001b[0m \u001b[0mcur\u001b[0m\u001b[1;33m\u001b[0m\u001b[0m\n\u001b[0;32m   1411\u001b[0m         \u001b[1;32mexcept\u001b[0m \u001b[0mException\u001b[0m \u001b[1;32mas\u001b[0m \u001b[0mexc\u001b[0m\u001b[1;33m:\u001b[0m\u001b[1;33m\u001b[0m\u001b[0m\n",
      "\u001b[1;31mDatabaseError\u001b[0m: Execution failed on sql 'select * from light': no such table: light"
     ]
    }
   ],
   "source": [
    "# 將 sql 通道打開\n",
    "import sqlite3\n",
    "conn = sqlite3.connect('lightdb.sqlite3')\n",
    "\n",
    "\n",
    "data.to_sql('pm25', conn, if_exists='replace')\n",
    "tempdata = pd.read_sql('select * from light', conn, index_col=['myid'])\n",
    "tempdata.head()\n",
    "conn.close()\n",
    "\n",
    "'''\n",
    "cursor = conn.cursor()\n",
    "sqlcmd='select * from pm25'\n",
    "cursor.execute(sqlcmd)\n",
    "'''"
   ]
  },
  {
   "cell_type": "markdown",
   "metadata": {
    "_uuid": "453fdc9ea986b70cceaabb313b8a03e0f4c8ff33"
   },
   "source": []
  },
  {
   "cell_type": "markdown",
   "metadata": {
    "_uuid": "5eee5d12e65116571a4f858eab56e6302583527d"
   },
   "source": [
    "<a id=\"p1\"></a>\n",
    "# 1. Importing Libraries and Packages\n",
    "We will use these packages to help us manipulate the data and visualize the features/labels as well as measure how well our model performed. Numpy and Pandas are helpful for manipulating the dataframe and its columns and cells. We will use matplotlib along with Seaborn to visualize our data."
   ]
  },
  {
   "cell_type": "code",
   "execution_count": null,
   "metadata": {
    "_cell_guid": "b1076dfc-b9ad-4769-8c92-a6c4dae69d19",
    "_uuid": "8f2839f25d086af736a60e9eeb907d3b93b6e0e5",
    "scrolled": true
   },
   "outputs": [],
   "source": [
    "# This Python 3 environment comes with many helpful analytics libraries installed\n",
    "# It is defined by the kaggle/python docker image: https://github.com/kaggle/docker-python\n",
    "# For example, here's several helpful packages to load in \n",
    "\n",
    "import numpy as np # linear algebra\n",
    "import pandas as pd # data processing, CSV file I/O (e.g. pd.read_csv)\n",
    "import matplotlib.pyplot as plt # Plotting data\n",
    "import seaborn as sns # Advanced visualization\n",
    "\n",
    "# Input data files are available in the \"../input/\" directory.\n",
    "# For example, running this (by clicking run or pressing Shift+Enter) will list the files in the input directory\n",
    "\n",
    "import os\n",
    "print(os.listdir(\"../input\"))\n",
    "\n",
    "# Any results you write to the current directory are saved as output."
   ]
  },
  {
   "cell_type": "markdown",
   "metadata": {
    "_uuid": "c655ff74e4a3e9fb76046d28aef5e686d51da187"
   },
   "source": [
    "<a id=\"p2\"></a>\n",
    "# 2. Loading and Viewing Data Set\n",
    "With Pandas, we can load both the training and testing set that we wil later use to train and test our model. Before we begin, we should take a look at our data table to see the values that we'll be working with. We can use the head and describe function to look at some sample data and statistics."
   ]
  },
  {
   "cell_type": "code",
   "execution_count": null,
   "metadata": {
    "_cell_guid": "79c7e3d0-c299-4dcb-8224-4455121ee9b0",
    "_uuid": "d629ff2d2480ee46fbb7e2d37f6b5fab8052498a"
   },
   "outputs": [],
   "source": [
    "data = pd.read_csv('../input/linear-regression-dataset.csv')"
   ]
  },
  {
   "cell_type": "code",
   "execution_count": null,
   "metadata": {
    "_uuid": "73459e88884596905a1b889cb13fe7e982dee1b7"
   },
   "outputs": [],
   "source": [
    "data"
   ]
  },
  {
   "cell_type": "code",
   "execution_count": null,
   "metadata": {
    "_uuid": "cdb0c72a3433d2fb3db5c4b7752199ef8a4954e2"
   },
   "outputs": [],
   "source": [
    "data.info"
   ]
  },
  {
   "cell_type": "code",
   "execution_count": null,
   "metadata": {
    "_uuid": "a001f9f80277ee33b6874e3450bc0a0ea49f633f"
   },
   "outputs": [],
   "source": [
    "data.describe()"
   ]
  },
  {
   "cell_type": "markdown",
   "metadata": {
    "_uuid": "dde30c2bb4fa8a52c7b8c79025bd5e6101d44772"
   },
   "source": [
    "Showing first 5 column"
   ]
  },
  {
   "cell_type": "code",
   "execution_count": null,
   "metadata": {
    "_uuid": "c3590fee8b0ddc7a515873e97f04bf7ce0140967"
   },
   "outputs": [],
   "source": [
    "data.head(5)"
   ]
  },
  {
   "cell_type": "markdown",
   "metadata": {
    "_uuid": "b42f227d01eeb966e2642927d489c66a488e8608"
   },
   "source": [
    "Showing last five columns"
   ]
  },
  {
   "cell_type": "code",
   "execution_count": null,
   "metadata": {
    "_uuid": "4384e1bb431dbaba223108f3347ae54db76a2a74"
   },
   "outputs": [],
   "source": [
    "data.tail()"
   ]
  },
  {
   "cell_type": "code",
   "execution_count": null,
   "metadata": {
    "_uuid": "8013671dd1743fff57c7f4bcbbb333649c6d9068"
   },
   "outputs": [],
   "source": [
    "data.corr()"
   ]
  },
  {
   "cell_type": "markdown",
   "metadata": {
    "_uuid": "758cdd8d2d7e3d01d6071f333087d25c2f5b490e"
   },
   "source": [
    "<a id=\"p3\"></a>\n",
    "# 3. Plotting and Visualizing Data"
   ]
  },
  {
   "cell_type": "markdown",
   "metadata": {
    "_uuid": "28c7ae57317486a443988c1530d6afc73f094e4d"
   },
   "source": [
    "Plotting the data with matplotlib scatter"
   ]
  },
  {
   "cell_type": "code",
   "execution_count": null,
   "metadata": {
    "_uuid": "0f3d7c9c13fb1690e304bd906aa1431220f9dda3"
   },
   "outputs": [],
   "source": [
    "plt.scatter(data.experience, data.salary)\n",
    "plt.xlabel(\"Experience\")\n",
    "plt.ylabel(\"Salary\")\n",
    "plt.show()"
   ]
  },
  {
   "cell_type": "markdown",
   "metadata": {
    "_uuid": "471433138c91941d89a4e95f64e708ab50439a3c"
   },
   "source": [
    "Plotting data with subplot"
   ]
  },
  {
   "cell_type": "code",
   "execution_count": null,
   "metadata": {
    "_uuid": "c3dd4fe9def81f09e9fc05a96b4e723bb6d0038f"
   },
   "outputs": [],
   "source": [
    "data_plot = data.loc[:,[\"experience\",\"salary\"]]\n",
    "data_plot.plot()"
   ]
  },
  {
   "cell_type": "code",
   "execution_count": null,
   "metadata": {
    "_uuid": "b7f0a3337c2b8f96bc7e791b958dac5b5d573a1d"
   },
   "outputs": [],
   "source": [
    "data.plot(kind = \"hist\",y = \"experience\",bins = 50,range= (0,50),normed = True)"
   ]
  },
  {
   "cell_type": "markdown",
   "metadata": {
    "_uuid": "c80ba8bc1131057b3e9fa7700f912fa3e5f55400"
   },
   "source": [
    "> **Seaborn**"
   ]
  },
  {
   "cell_type": "markdown",
   "metadata": {
    "_uuid": "764631e8494e628c06b9ab77932f65a7af67c133"
   },
   "source": [
    "Heatmapping with Seaborn "
   ]
  },
  {
   "cell_type": "code",
   "execution_count": null,
   "metadata": {
    "_uuid": "fb7ff8d1d0d25725e9ddf6b0be661bdc5472e007"
   },
   "outputs": [],
   "source": [
    "f,ax = plt.subplots(figsize=(20, 10))\n",
    "sns.heatmap(data, annot=True, linewidths=0.5,linecolor=\"red\", fmt= '.1f',ax=ax)\n",
    "plt.show()"
   ]
  },
  {
   "cell_type": "markdown",
   "metadata": {
    "_uuid": "b9ba396a4fd22556b970cde7ad3cf392f946b4bd"
   },
   "source": [
    "<a id=\"p4\"></a>\n",
    "# 4 Model Fitting, Optimizing, and Predicting\n",
    "Now that our data has been processed and formmated properly, and that we understand the general data we're working with as well as the trends and associations, we can start to build our model. We can import different classifiers from sklearn. "
   ]
  },
  {
   "cell_type": "code",
   "execution_count": null,
   "metadata": {
    "_uuid": "df098279ecd1cccc37ce72bc7f1d7722bc5a2282"
   },
   "outputs": [],
   "source": [
    "from sklearn.linear_model import LinearRegression"
   ]
  },
  {
   "cell_type": "code",
   "execution_count": null,
   "metadata": {
    "_uuid": "db1e867b1adb5d91b2d3f71c7f8d785c94fdf0ee"
   },
   "outputs": [],
   "source": [
    "linear_reg = LinearRegression()\n",
    "x = data.experience.values.reshape(-1,1)\n",
    "y = data.salary.values.reshape(-1,1)"
   ]
  },
  {
   "cell_type": "markdown",
   "metadata": {
    "_uuid": "69d7f46a2d504db8daef8039867c5bf6f02409f4"
   },
   "source": [
    "Fitting the data"
   ]
  },
  {
   "cell_type": "code",
   "execution_count": null,
   "metadata": {
    "_uuid": "e2224aefe218ca9532d3b869a77bc08b19d38818"
   },
   "outputs": [],
   "source": [
    "linear_reg.fit(x,y)"
   ]
  },
  {
   "cell_type": "markdown",
   "metadata": {
    "_uuid": "3fea792905847320ef8f27457e856592096344e1"
   },
   "source": [
    "Predicting twenty years experience salary"
   ]
  },
  {
   "cell_type": "code",
   "execution_count": null,
   "metadata": {
    "_uuid": "a5b28585a388d2c949b44b2573046b96f5db8b6f"
   },
   "outputs": [],
   "source": [
    "next_salary = linear_reg.predict([[20]])\n",
    "print(next_salary)"
   ]
  }
 ],
 "metadata": {
  "kernelspec": {
   "display_name": "Python 3",
   "language": "python",
   "name": "python3"
  },
  "language_info": {
   "codemirror_mode": {
    "name": "ipython",
    "version": 3
   },
   "file_extension": ".py",
   "mimetype": "text/x-python",
   "name": "python",
   "nbconvert_exporter": "python",
   "pygments_lexer": "ipython3",
   "version": "3.6.4"
  }
 },
 "nbformat": 4,
 "nbformat_minor": 1
}
