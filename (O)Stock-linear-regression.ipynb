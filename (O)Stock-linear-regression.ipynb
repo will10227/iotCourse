{
 "cells": [
  {
   "cell_type": "markdown",
   "metadata": {},
   "source": [
    "# HW1: Linear Regression Example (2330.tw)"
   ]
  },
  {
   "cell_type": "markdown",
   "metadata": {},
   "source": [
    "# Step1: Import Data and Observe Data"
   ]
  },
  {
   "cell_type": "code",
   "execution_count": 13,
   "metadata": {},
   "outputs": [
    {
     "name": "stdout",
     "output_type": "stream",
     "text": [
      "        Date     X1     X2     X3     X4     X5  estimate\n",
      "0  2018/3/20  253.0  255.0  255.0  255.0  257.0     259.0\n",
      "1  2018/3/21  252.5  253.0  255.0  255.0  255.0     257.0\n",
      "2  2018/3/22  251.5  252.5  253.0  255.0  255.0     255.0\n",
      "3  2018/3/23  245.0  251.5  252.5  253.0  255.0     255.0\n",
      "4  2018/3/26  243.5  245.0  251.5  252.5  253.0     255.0\n",
      "        Date     X1     X2     X3     X4     X5  estimate\n",
      "0  2018/3/20  253.0  255.0  255.0  255.0  257.0     259.0\n",
      "1  2018/3/21  252.5  253.0  255.0  255.0  255.0     257.0\n",
      "2  2018/3/22  251.5  252.5  253.0  255.0  255.0     255.0\n",
      "3  2018/3/23  245.0  251.5  252.5  253.0  255.0     255.0\n",
      "4  2018/3/26  243.5  245.0  251.5  252.5  253.0     255.0\n",
      "<class 'pandas.core.frame.DataFrame'>\n",
      "RangeIndex: 238 entries, 0 to 237\n",
      "Data columns (total 7 columns):\n",
      "Date        238 non-null object\n",
      "X1          238 non-null float64\n",
      "X2          238 non-null float64\n",
      "X3          238 non-null float64\n",
      "X4          238 non-null float64\n",
      "X5          238 non-null float64\n",
      "estimate    238 non-null float64\n",
      "dtypes: float64(6), object(1)\n",
      "memory usage: 13.1+ KB\n",
      "None\n",
      "               X1          X2          X3          X4          X5    estimate\n",
      "count  238.000000  238.000000  238.000000  238.000000  238.000000  238.000000\n",
      "mean   233.493697  233.575630  233.678571  233.783613  233.880252  233.985294\n",
      "std     13.317645   13.389828   13.460077   13.528624   13.612066   13.709109\n",
      "min    208.000000  208.000000  208.000000  208.000000  208.000000  208.000000\n",
      "25%    223.000000  223.000000  223.000000  223.000000  223.000000  223.000000\n",
      "50%    230.000000  230.000000  230.000000  230.000000  230.000000  230.000000\n",
      "75%    243.500000  243.500000  243.500000  243.875000  244.000000  244.000000\n",
      "max    265.000000  265.000000  265.000000  265.000000  265.000000  265.000000\n",
      "Index(['Date', 'X1', 'X2', 'X3', 'X4', 'X5', 'estimate'], dtype='object')\n"
     ]
    }
   ],
   "source": [
    "import numpy as np\n",
    "import matplotlib.pyplot as plt\n",
    "import pandas as pd\n",
    "\n",
    "data = pd.read_csv(\"2330.tw.csv\")\n",
    "'''\n",
    "df= pd.read_csv('https://archive.ics.uci.edu/ml/machine-learning-databases/housing/housing.data',header=None, sep='\\s+')\n",
    "'''\n",
    "print(data.head())\n",
    "type(data)\n",
    "print(data.head())\n",
    "print(data.info())\n",
    "len(data)\n",
    "print(data.describe())\n",
    "print(data.columns)"
   ]
  },
  {
   "cell_type": "code",
   "execution_count": 14,
   "metadata": {},
   "outputs": [
    {
     "name": "stdout",
     "output_type": "stream",
     "text": [
      "        X1     X2     X3     X4     X5\n",
      "0    253.0  255.0  255.0  255.0  257.0\n",
      "1    252.5  253.0  255.0  255.0  255.0\n",
      "2    251.5  252.5  253.0  255.0  255.0\n",
      "3    245.0  251.5  252.5  253.0  255.0\n",
      "4    243.5  245.0  251.5  252.5  253.0\n",
      "5    251.0  243.5  245.0  251.5  252.5\n",
      "6    245.0  251.0  243.5  245.0  251.5\n",
      "7    244.0  245.0  251.0  243.5  245.0\n",
      "8    246.0  244.0  245.0  251.0  243.5\n",
      "9    246.5  246.0  244.0  245.0  251.0\n",
      "10   244.0  246.5  246.0  244.0  245.0\n",
      "11   245.0  244.0  246.5  246.0  244.0\n",
      "12   245.5  245.0  244.0  246.5  246.0\n",
      "13   248.0  245.5  245.0  244.0  246.5\n",
      "14   245.0  248.0  245.5  245.0  244.0\n",
      "15   244.5  245.0  248.0  245.5  245.0\n",
      "16   243.5  244.5  245.0  248.0  245.5\n",
      "17   238.0  243.5  244.5  245.0  248.0\n",
      "18   238.0  238.0  243.5  244.5  245.0\n",
      "19   244.5  238.0  238.0  243.5  244.5\n",
      "20   229.0  244.5  238.0  238.0  243.5\n",
      "21   226.5  229.0  244.5  238.0  238.0\n",
      "22   227.0  226.5  229.0  244.5  238.0\n",
      "23   225.0  227.0  226.5  229.0  244.5\n",
      "24   222.0  225.0  227.0  226.5  229.0\n",
      "25   223.5  222.0  225.0  227.0  226.5\n",
      "26   227.0  223.5  222.0  225.0  227.0\n",
      "27   223.0  227.0  223.5  222.0  225.0\n",
      "28   220.5  223.0  227.0  223.5  222.0\n",
      "29   223.0  220.5  223.0  227.0  223.5\n",
      "..     ...    ...    ...    ...    ...\n",
      "208  220.5  217.5  221.0  218.5  220.5\n",
      "209  218.5  220.5  217.5  221.0  218.5\n",
      "210  221.0  218.5  220.5  217.5  221.0\n",
      "211  223.0  221.0  218.5  220.5  217.5\n",
      "212  220.5  223.0  221.0  218.5  220.5\n",
      "213  222.5  220.5  223.0  221.0  218.5\n",
      "214  226.0  222.5  220.5  223.0  221.0\n",
      "215  229.0  226.0  222.5  220.5  223.0\n",
      "216  222.5  229.0  226.0  222.5  220.5\n",
      "217  221.0  222.5  229.0  226.0  222.5\n",
      "218  228.0  221.0  222.5  229.0  226.0\n",
      "219  230.0  228.0  221.0  222.5  229.0\n",
      "220  229.0  230.0  228.0  221.0  222.5\n",
      "221  227.0  229.0  230.0  228.0  221.0\n",
      "222  227.0  227.0  229.0  230.0  228.0\n",
      "223  230.0  227.0  227.0  229.0  230.0\n",
      "224  229.0  230.0  227.0  227.0  229.0\n",
      "225  234.5  229.0  230.0  227.0  227.0\n",
      "226  236.5  234.5  229.0  230.0  227.0\n",
      "227  236.5  236.5  234.5  229.0  230.0\n",
      "228  238.0  236.5  236.5  234.5  229.0\n",
      "229  239.5  238.0  236.5  236.5  234.5\n",
      "230  239.0  239.5  238.0  236.5  236.5\n",
      "231  235.5  239.0  239.5  238.0  236.5\n",
      "232  233.0  235.5  239.0  239.5  238.0\n",
      "233  234.0  233.0  235.5  239.0  239.5\n",
      "234  234.0  234.0  233.0  235.5  239.0\n",
      "235  230.0  234.0  234.0  233.0  235.5\n",
      "236  230.5  230.0  234.0  234.0  233.0\n",
      "237  235.5  230.5  230.0  234.0  234.0\n",
      "\n",
      "[238 rows x 5 columns]\n",
      "0      259.0\n",
      "1      257.0\n",
      "2      255.0\n",
      "3      255.0\n",
      "4      255.0\n",
      "5      253.0\n",
      "6      252.5\n",
      "7      251.5\n",
      "8      245.0\n",
      "9      243.5\n",
      "10     251.0\n",
      "11     245.0\n",
      "12     244.0\n",
      "13     246.0\n",
      "14     246.5\n",
      "15     244.0\n",
      "16     245.0\n",
      "17     245.5\n",
      "18     248.0\n",
      "19     245.0\n",
      "20     244.5\n",
      "21     243.5\n",
      "22     238.0\n",
      "23     238.0\n",
      "24     244.5\n",
      "25     229.0\n",
      "26     226.5\n",
      "27     227.0\n",
      "28     225.0\n",
      "29     222.0\n",
      "       ...  \n",
      "208    216.0\n",
      "209    220.5\n",
      "210    218.5\n",
      "211    221.0\n",
      "212    217.5\n",
      "213    220.5\n",
      "214    218.5\n",
      "215    221.0\n",
      "216    223.0\n",
      "217    220.5\n",
      "218    222.5\n",
      "219    226.0\n",
      "220    229.0\n",
      "221    222.5\n",
      "222    221.0\n",
      "223    228.0\n",
      "224    230.0\n",
      "225    229.0\n",
      "226    227.0\n",
      "227    227.0\n",
      "228    230.0\n",
      "229    229.0\n",
      "230    234.5\n",
      "231    236.5\n",
      "232    236.5\n",
      "233    238.0\n",
      "234    239.5\n",
      "235    239.0\n",
      "236    235.5\n",
      "237    233.0\n",
      "Name: estimate, Length: 238, dtype: float64\n"
     ]
    },
    {
     "data": {
      "text/plain": [
       "<matplotlib.collections.PathCollection at 0xb851e80>"
      ]
     },
     "execution_count": 14,
     "metadata": {},
     "output_type": "execute_result"
    },
    {
     "data": {
      "image/png": "[encoded data removed]",
      "text/plain": [
       "<matplotlib.figure.Figure at 0xb823b70>"
      ]
     },
     "metadata": {},
     "output_type": "display_data"
    }
   ],
   "source": [
    "x=data[['X1', 'X2', 'X3', 'X4', 'X5']]\n",
    "y =data['estimate']\n",
    "print(x)\n",
    "print(y)\n",
    "plt.scatter(x['X2'],y)"
   ]
  },
  {
   "cell_type": "code",
   "execution_count": null,
   "metadata": {},
   "outputs": [],
   "source": []
  },
  {
   "cell_type": "markdown",
   "metadata": {},
   "source": [
    "# Step2: Feture Engineering (Data PreProcessing=data missing, outlier, normalization, find efficient features, split training and validation set, test set )"
   ]
  },
  {
   "cell_type": "code",
   "execution_count": 15,
   "metadata": {},
   "outputs": [
    {
     "name": "stdout",
     "output_type": "stream",
     "text": [
      "                X1        X2        X3        X4        X5  estimate\n",
      "X1        1.000000  0.957812  0.926389  0.890862  0.859394  0.824570\n",
      "X2        0.957812  1.000000  0.958561  0.927531  0.892133  0.861075\n",
      "X3        0.926389  0.958561  1.000000  0.958990  0.928450  0.893450\n",
      "X4        0.890862  0.927531  0.958990  1.000000  0.959586  0.929342\n",
      "X5        0.859394  0.892133  0.928450  0.959586  1.000000  0.960084\n",
      "estimate  0.824570  0.861075  0.893450  0.929342  0.960084  1.000000\n"
     ]
    },
    {
     "data": {
      "text/plain": [
       "<matplotlib.image.AxesImage at 0xb8b1b00>"
      ]
     },
     "execution_count": 15,
     "metadata": {},
     "output_type": "execute_result"
    },
    {
     "data": {
      "image/png": "[encoded data removed]",
      "text/plain": [
       "<matplotlib.figure.Figure at 0xb848d30>"
      ]
     },
     "metadata": {},
     "output_type": "display_data"
    }
   ],
   "source": [
    "print(data.corr())\n",
    "plt.matshow(data.corr())"
   ]
  },
  {
   "cell_type": "code",
   "execution_count": null,
   "metadata": {},
   "outputs": [],
   "source": []
  },
  {
   "cell_type": "markdown",
   "metadata": {},
   "source": [
    "## Step2.1 Prepare x, y fetures and labels for sklearn"
   ]
  },
  {
   "cell_type": "code",
   "execution_count": 16,
   "metadata": {},
   "outputs": [
    {
     "name": "stdout",
     "output_type": "stream",
     "text": [
      "<class 'numpy.ndarray'>\n",
      "(238, 5)\n",
      "<class 'numpy.ndarray'>\n",
      "(238, 1)\n"
     ]
    }
   ],
   "source": [
    "\n",
    "x=x.values.reshape(-1,5)\n",
    "y=y.values.reshape(-1,1)\n",
    "\n",
    "print(type(x))\n",
    "print(x.shape)\n",
    "print(type(y))\n",
    "print(y.shape)\n"
   ]
  },
  {
   "cell_type": "markdown",
   "metadata": {},
   "source": [
    "# Step 3: Build Prediction Model"
   ]
  },
  {
   "cell_type": "code",
   "execution_count": 17,
   "metadata": {},
   "outputs": [
    {
     "data": {
      "text/plain": [
       "'\\nprint(model)\\na=model.intercept_\\nb=model.coef_\\n'"
      ]
     },
     "execution_count": 17,
     "metadata": {},
     "output_type": "execute_result"
    }
   ],
   "source": [
    "from sklearn.linear_model import LinearRegression as LR\n",
    "model = LR()\n",
    "model.fit(x,y)\n",
    "pre = model.predict(x)\n",
    "\n",
    "'''\n",
    "print(model)\n",
    "a=model.intercept_\n",
    "b=model.coef_\n",
    "'''"
   ]
  },
  {
   "cell_type": "code",
   "execution_count": 19,
   "metadata": {},
   "outputs": [
    {
     "data": {
      "text/plain": [
       "\"\\nplt.scatter(x,y)\\nplt.plot(x,pre,'g-')\\nplt.savefig('linearRegression')\\n\""
      ]
     },
     "execution_count": 19,
     "metadata": {},
     "output_type": "execute_result"
    }
   ],
   "source": [
    "'''\n",
    "plt.scatter(x,y)\n",
    "plt.plot(x,pre,'g-')\n",
    "plt.savefig('linearRegression')\n",
    "'''"
   ]
  },
  {
   "cell_type": "markdown",
   "metadata": {},
   "source": [
    "# Step 4: Performance Evaluation"
   ]
  },
  {
   "cell_type": "code",
   "execution_count": 30,
   "metadata": {},
   "outputs": [
    {
     "name": "stdout",
     "output_type": "stream",
     "text": [
      "0.9231215767645906\n",
      "[[254.5987932]]\n"
     ]
    }
   ],
   "source": [
    "scor=model.score(x,y)\n",
    "print(scor)\n",
    "y_pre = model.predict([[245.0,  251.5,  252.5,  253.0,  255.0]])\n",
    "print(y_pre)"
   ]
  },
  {
   "cell_type": "code",
   "execution_count": 40,
   "metadata": {},
   "outputs": [
    {
     "data": {
      "text/plain": [
       "<matplotlib.axes._subplots.AxesSubplot at 0xc8dab38>"
      ]
     },
     "execution_count": 40,
     "metadata": {},
     "output_type": "execute_result"
    },
    {
     "data": {
      "image/png": "[encoded data removed]",
      "text/plain": [
       "<matplotlib.figure.Figure at 0xdade128>"
      ]
     },
     "metadata": {},
     "output_type": "display_data"
    },
    {
     "data": {
      "image/png": "[encoded data removed]",
      "text/plain": [
       "<matplotlib.figure.Figure at 0xc8da3c8>"
      ]
     },
     "metadata": {},
     "output_type": "display_data"
    }
   ],
   "source": [
    "data['pre']=pd.DataFrame(pre)\n",
    "data\n",
    "data.columns= ['Date', 'X1', 'X2', 'X3', 'X4', 'X5', 'y', 'pre']\n",
    "data\n",
    "plt.scatter(data.y,data.pre)\n",
    "data2=data[['y','pre']]\n",
    "data2.plot()"
   ]
  },
  {
   "cell_type": "markdown",
   "metadata": {},
   "source": [
    "# Step 5  write back to file"
   ]
  },
  {
   "cell_type": "code",
   "execution_count": null,
   "metadata": {
    "scrolled": true
   },
   "outputs": [],
   "source": [
    "from pandas import Series,DataFrame\n",
    "\n",
    "pre=pd.DataFrame(pre)\n",
    "data['pre']=pre\n",
    "iid =list(range(1,len(pre)+1))\n",
    "data['myid']=DataFrame(iid)\n",
    "\n",
    "type(pre)\n",
    "print(pre[:10])\n",
    "data"
   ]
  },
  {
   "cell_type": "code",
   "execution_count": null,
   "metadata": {},
   "outputs": [],
   "source": [
    "data.to_csv('results1.csv')"
   ]
  },
  {
   "cell_type": "code",
   "execution_count": null,
   "metadata": {},
   "outputs": [],
   "source": [
    "from sqlalchemy import create_engine\n",
    "engine = create_engine('sqlite://', echo=False)\n",
    "data.to_sql('pm25sql', con=engine)\n",
    "engine.execute(\"SELECT * FROM pm25sql\").fetchall()\n",
    "#[(0, 'User 1'), (1, 'User 2'), (2, 'User 3')]"
   ]
  },
  {
   "cell_type": "code",
   "execution_count": null,
   "metadata": {},
   "outputs": [],
   "source": [
    "# 將 sql 通道打開\n",
    "import sqlite3\n",
    "conn = sqlite3.connect('lightdb.sqlite3')\n",
    "\n",
    "\n",
    "data.to_sql('pm25', conn, if_exists='replace')\n",
    "tempdata = pd.read_sql('select * from light', conn, index_col=['myid'])\n",
    "tempdata.head()\n",
    "conn.close()\n",
    "\n",
    "'''\n",
    "cursor = conn.cursor()\n",
    "sqlcmd='select * from pm25'\n",
    "cursor.execute(sqlcmd)\n",
    "'''"
   ]
  },
  {
   "cell_type": "markdown",
   "metadata": {
    "_uuid": "453fdc9ea986b70cceaabb313b8a03e0f4c8ff33"
   },
   "source": []
  },
  {
   "cell_type": "markdown",
   "metadata": {
    "_uuid": "5eee5d12e65116571a4f858eab56e6302583527d"
   },
   "source": [
    "<a id=\"p1\"></a>\n",
    "# 1. Importing Libraries and Packages\n",
    "We will use these packages to help us manipulate the data and visualize the features/labels as well as measure how well our model performed. Numpy and Pandas are helpful for manipulating the dataframe and its columns and cells. We will use matplotlib along with Seaborn to visualize our data."
   ]
  },
  {
   "cell_type": "code",
   "execution_count": null,
   "metadata": {
    "_cell_guid": "b1076dfc-b9ad-4769-8c92-a6c4dae69d19",
    "_uuid": "8f2839f25d086af736a60e9eeb907d3b93b6e0e5",
    "scrolled": true
   },
   "outputs": [],
   "source": [
    "# This Python 3 environment comes with many helpful analytics libraries installed\n",
    "# It is defined by the kaggle/python docker image: https://github.com/kaggle/docker-python\n",
    "# For example, here's several helpful packages to load in \n",
    "\n",
    "import numpy as np # linear algebra\n",
    "import pandas as pd # data processing, CSV file I/O (e.g. pd.read_csv)\n",
    "import matplotlib.pyplot as plt # Plotting data\n",
    "import seaborn as sns # Advanced visualization\n",
    "\n",
    "# Input data files are available in the \"../input/\" directory.\n",
    "# For example, running this (by clicking run or pressing Shift+Enter) will list the files in the input directory\n",
    "\n",
    "import os\n",
    "print(os.listdir(\"../input\"))\n",
    "\n",
    "# Any results you write to the current directory are saved as output."
   ]
  },
  {
   "cell_type": "markdown",
   "metadata": {
    "_uuid": "c655ff74e4a3e9fb76046d28aef5e686d51da187"
   },
   "source": [
    "<a id=\"p2\"></a>\n",
    "# 2. Loading and Viewing Data Set\n",
    "With Pandas, we can load both the training and testing set that we wil later use to train and test our model. Before we begin, we should take a look at our data table to see the values that we'll be working with. We can use the head and describe function to look at some sample data and statistics."
   ]
  },
  {
   "cell_type": "code",
   "execution_count": null,
   "metadata": {
    "_cell_guid": "79c7e3d0-c299-4dcb-8224-4455121ee9b0",
    "_uuid": "d629ff2d2480ee46fbb7e2d37f6b5fab8052498a"
   },
   "outputs": [],
   "source": [
    "data = pd.read_csv('../input/linear-regression-dataset.csv')"
   ]
  },
  {
   "cell_type": "code",
   "execution_count": null,
   "metadata": {
    "_uuid": "73459e88884596905a1b889cb13fe7e982dee1b7"
   },
   "outputs": [],
   "source": [
    "data"
   ]
  },
  {
   "cell_type": "code",
   "execution_count": null,
   "metadata": {
    "_uuid": "cdb0c72a3433d2fb3db5c4b7752199ef8a4954e2"
   },
   "outputs": [],
   "source": [
    "data.info"
   ]
  },
  {
   "cell_type": "code",
   "execution_count": null,
   "metadata": {
    "_uuid": "a001f9f80277ee33b6874e3450bc0a0ea49f633f"
   },
   "outputs": [],
   "source": [
    "data.describe()"
   ]
  },
  {
   "cell_type": "markdown",
   "metadata": {
    "_uuid": "dde30c2bb4fa8a52c7b8c79025bd5e6101d44772"
   },
   "source": [
    "Showing first 5 column"
   ]
  },
  {
   "cell_type": "code",
   "execution_count": null,
   "metadata": {
    "_uuid": "c3590fee8b0ddc7a515873e97f04bf7ce0140967"
   },
   "outputs": [],
   "source": [
    "data.head(5)"
   ]
  },
  {
   "cell_type": "markdown",
   "metadata": {
    "_uuid": "b42f227d01eeb966e2642927d489c66a488e8608"
   },
   "source": [
    "Showing last five columns"
   ]
  },
  {
   "cell_type": "code",
   "execution_count": null,
   "metadata": {
    "_uuid": "4384e1bb431dbaba223108f3347ae54db76a2a74"
   },
   "outputs": [],
   "source": [
    "data.tail()"
   ]
  },
  {
   "cell_type": "code",
   "execution_count": null,
   "metadata": {
    "_uuid": "8013671dd1743fff57c7f4bcbbb333649c6d9068"
   },
   "outputs": [],
   "source": [
    "data.corr()"
   ]
  },
  {
   "cell_type": "markdown",
   "metadata": {
    "_uuid": "758cdd8d2d7e3d01d6071f333087d25c2f5b490e"
   },
   "source": [
    "<a id=\"p3\"></a>\n",
    "# 3. Plotting and Visualizing Data"
   ]
  },
  {
   "cell_type": "markdown",
   "metadata": {
    "_uuid": "28c7ae57317486a443988c1530d6afc73f094e4d"
   },
   "source": [
    "Plotting the data with matplotlib scatter"
   ]
  },
  {
   "cell_type": "code",
   "execution_count": null,
   "metadata": {
    "_uuid": "0f3d7c9c13fb1690e304bd906aa1431220f9dda3"
   },
   "outputs": [],
   "source": [
    "plt.scatter(data.experience, data.salary)\n",
    "plt.xlabel(\"Experience\")\n",
    "plt.ylabel(\"Salary\")\n",
    "plt.show()"
   ]
  },
  {
   "cell_type": "markdown",
   "metadata": {
    "_uuid": "471433138c91941d89a4e95f64e708ab50439a3c"
   },
   "source": [
    "Plotting data with subplot"
   ]
  },
  {
   "cell_type": "code",
   "execution_count": null,
   "metadata": {
    "_uuid": "c3dd4fe9def81f09e9fc05a96b4e723bb6d0038f"
   },
   "outputs": [],
   "source": [
    "data_plot = data.loc[:,[\"experience\",\"salary\"]]\n",
    "data_plot.plot()"
   ]
  },
  {
   "cell_type": "code",
   "execution_count": null,
   "metadata": {
    "_uuid": "b7f0a3337c2b8f96bc7e791b958dac5b5d573a1d"
   },
   "outputs": [],
   "source": [
    "data.plot(kind = \"hist\",y = \"experience\",bins = 50,range= (0,50),normed = True)"
   ]
  },
  {
   "cell_type": "markdown",
   "metadata": {
    "_uuid": "c80ba8bc1131057b3e9fa7700f912fa3e5f55400"
   },
   "source": [
    "> **Seaborn**"
   ]
  },
  {
   "cell_type": "markdown",
   "metadata": {
    "_uuid": "764631e8494e628c06b9ab77932f65a7af67c133"
   },
   "source": [
    "Heatmapping with Seaborn "
   ]
  },
  {
   "cell_type": "code",
   "execution_count": null,
   "metadata": {
    "_uuid": "fb7ff8d1d0d25725e9ddf6b0be661bdc5472e007"
   },
   "outputs": [],
   "source": [
    "f,ax = plt.subplots(figsize=(20, 10))\n",
    "sns.heatmap(data, annot=True, linewidths=0.5,linecolor=\"red\", fmt= '.1f',ax=ax)\n",
    "plt.show()"
   ]
  },
  {
   "cell_type": "markdown",
   "metadata": {
    "_uuid": "b9ba396a4fd22556b970cde7ad3cf392f946b4bd"
   },
   "source": [
    "<a id=\"p4\"></a>\n",
    "# 4 Model Fitting, Optimizing, and Predicting\n",
    "Now that our data has been processed and formmated properly, and that we understand the general data we're working with as well as the trends and associations, we can start to build our model. We can import different classifiers from sklearn. "
   ]
  },
  {
   "cell_type": "code",
   "execution_count": null,
   "metadata": {
    "_uuid": "df098279ecd1cccc37ce72bc7f1d7722bc5a2282"
   },
   "outputs": [],
   "source": [
    "from sklearn.linear_model import LinearRegression"
   ]
  },
  {
   "cell_type": "code",
   "execution_count": null,
   "metadata": {
    "_uuid": "db1e867b1adb5d91b2d3f71c7f8d785c94fdf0ee"
   },
   "outputs": [],
   "source": [
    "linear_reg = LinearRegression()\n",
    "x = data.experience.values.reshape(-1,1)\n",
    "y = data.salary.values.reshape(-1,1)"
   ]
  },
  {
   "cell_type": "markdown",
   "metadata": {
    "_uuid": "69d7f46a2d504db8daef8039867c5bf6f02409f4"
   },
   "source": [
    "Fitting the data"
   ]
  },
  {
   "cell_type": "code",
   "execution_count": null,
   "metadata": {
    "_uuid": "e2224aefe218ca9532d3b869a77bc08b19d38818"
   },
   "outputs": [],
   "source": [
    "linear_reg.fit(x,y)"
   ]
  },
  {
   "cell_type": "markdown",
   "metadata": {
    "_uuid": "3fea792905847320ef8f27457e856592096344e1"
   },
   "source": [
    "Predicting twenty years experience salary"
   ]
  },
  {
   "cell_type": "code",
   "execution_count": null,
   "metadata": {
    "_uuid": "a5b28585a388d2c949b44b2573046b96f5db8b6f"
   },
   "outputs": [],
   "source": [
    "next_salary = linear_reg.predict([[20]])\n",
    "print(next_salary)"
   ]
  }
 ],
 "metadata": {
  "kernelspec": {
   "display_name": "Python 3",
   "language": "python",
   "name": "python3"
  },
  "language_info": {
   "codemirror_mode": {
    "name": "ipython",
    "version": 3
   },
   "file_extension": ".py",
   "mimetype": "text/x-python",
   "name": "python",
   "nbconvert_exporter": "python",
   "pygments_lexer": "ipython3",
   "version": "3.6.4"
  }
 },
 "nbformat": 4,
 "nbformat_minor": 1
}
