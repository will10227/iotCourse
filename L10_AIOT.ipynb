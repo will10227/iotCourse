{
  "nbformat": 4,
  "nbformat_minor": 0,
  "metadata": {
    "colab": {
      "name": "L10_AIOT.ipynb",
      "version": "0.3.2",
      "provenance": []
    },
    "kernelspec": {
      "name": "python3",
      "display_name": "Python 3"
    }
  },
  "cells": [
    {
      "metadata": {
        "id": "07G-a_8x_Wz8",
        "colab_type": "text"
      },
      "cell_type": "markdown",
      "source": [
        "# L10 AIOT Data Analysis 資料流程"
      ]
    },
    {
      "metadata": {
        "id": "4n2xRYXQ_mzr",
        "colab_type": "text"
      },
      "cell_type": "markdown",
      "source": [
        "## step1 : Load Data and Check Data"
      ]
    },
    {
      "metadata": {
        "id": "QJIRRTvIHBhj",
        "colab_type": "text"
      },
      "cell_type": "markdown",
      "source": [
        ">1. data source : Energy efficiency Data Set\n",
        ">2. data.info(),data.describe()"
      ]
    },
    {
      "metadata": {
        "id": "Kst1MqyO_PhG",
        "colab_type": "code",
        "colab": {
          "base_uri": "https://localhost:8080/",
          "height": 552
        },
        "outputId": "43066df9-7063-4337-a38f-47a58d3c84a8"
      },
      "cell_type": "code",
      "source": [
        "import numpy as np\n",
        "import pandas as pd\n",
        "import matplotlib.pyplot as plt\n",
        "\n",
        "data = pd.read_excel(\"http://archive.ics.uci.edu/ml/machine-learning-databases/00242/ENB2012_data.xlsx\")\n",
        "\n",
        "data.info()\n",
        "data.describe()"
      ],
      "execution_count": 105,
      "outputs": [
        {
          "output_type": "stream",
          "text": [
            "<class 'pandas.core.frame.DataFrame'>\n",
            "RangeIndex: 768 entries, 0 to 767\n",
            "Data columns (total 10 columns):\n",
            "X1    768 non-null float64\n",
            "X2    768 non-null float64\n",
            "X3    768 non-null float64\n",
            "X4    768 non-null float64\n",
            "X5    768 non-null float64\n",
            "X6    768 non-null int64\n",
            "X7    768 non-null float64\n",
            "X8    768 non-null int64\n",
            "Y1    768 non-null float64\n",
            "Y2    768 non-null float64\n",
            "dtypes: float64(8), int64(2)\n",
            "memory usage: 60.1 KB\n"
          ],
          "name": "stdout"
        },
        {
          "output_type": "execute_result",
          "data": {
            "text/html": [
              "<div>\n",
              "<style scoped>\n",
              "    .dataframe tbody tr th:only-of-type {\n",
              "        vertical-align: middle;\n",
              "    }\n",
              "\n",
              "    .dataframe tbody tr th {\n",
              "        vertical-align: top;\n",
              "    }\n",
              "\n",
              "    .dataframe thead th {\n",
              "        text-align: right;\n",
              "    }\n",
              "</style>\n",
              "<table border=\"1\" class=\"dataframe\">\n",
              "  <thead>\n",
              "    <tr style=\"text-align: right;\">\n",
              "      <th></th>\n",
              "      <th>X1</th>\n",
              "      <th>X2</th>\n",
              "      <th>X3</th>\n",
              "      <th>X4</th>\n",
              "      <th>X5</th>\n",
              "      <th>X6</th>\n",
              "      <th>X7</th>\n",
              "      <th>X8</th>\n",
              "      <th>Y1</th>\n",
              "      <th>Y2</th>\n",
              "    </tr>\n",
              "  </thead>\n",
              "  <tbody>\n",
              "    <tr>\n",
              "      <th>count</th>\n",
              "      <td>768.000000</td>\n",
              "      <td>768.000000</td>\n",
              "      <td>768.000000</td>\n",
              "      <td>768.000000</td>\n",
              "      <td>768.00000</td>\n",
              "      <td>768.000000</td>\n",
              "      <td>768.000000</td>\n",
              "      <td>768.00000</td>\n",
              "      <td>768.000000</td>\n",
              "      <td>768.000000</td>\n",
              "    </tr>\n",
              "    <tr>\n",
              "      <th>mean</th>\n",
              "      <td>0.764167</td>\n",
              "      <td>671.708333</td>\n",
              "      <td>318.500000</td>\n",
              "      <td>176.604167</td>\n",
              "      <td>5.25000</td>\n",
              "      <td>3.500000</td>\n",
              "      <td>0.234375</td>\n",
              "      <td>2.81250</td>\n",
              "      <td>22.307195</td>\n",
              "      <td>24.587760</td>\n",
              "    </tr>\n",
              "    <tr>\n",
              "      <th>std</th>\n",
              "      <td>0.105777</td>\n",
              "      <td>88.086116</td>\n",
              "      <td>43.626481</td>\n",
              "      <td>45.165950</td>\n",
              "      <td>1.75114</td>\n",
              "      <td>1.118763</td>\n",
              "      <td>0.133221</td>\n",
              "      <td>1.55096</td>\n",
              "      <td>10.090204</td>\n",
              "      <td>9.513306</td>\n",
              "    </tr>\n",
              "    <tr>\n",
              "      <th>min</th>\n",
              "      <td>0.620000</td>\n",
              "      <td>514.500000</td>\n",
              "      <td>245.000000</td>\n",
              "      <td>110.250000</td>\n",
              "      <td>3.50000</td>\n",
              "      <td>2.000000</td>\n",
              "      <td>0.000000</td>\n",
              "      <td>0.00000</td>\n",
              "      <td>6.010000</td>\n",
              "      <td>10.900000</td>\n",
              "    </tr>\n",
              "    <tr>\n",
              "      <th>25%</th>\n",
              "      <td>0.682500</td>\n",
              "      <td>606.375000</td>\n",
              "      <td>294.000000</td>\n",
              "      <td>140.875000</td>\n",
              "      <td>3.50000</td>\n",
              "      <td>2.750000</td>\n",
              "      <td>0.100000</td>\n",
              "      <td>1.75000</td>\n",
              "      <td>12.992500</td>\n",
              "      <td>15.620000</td>\n",
              "    </tr>\n",
              "    <tr>\n",
              "      <th>50%</th>\n",
              "      <td>0.750000</td>\n",
              "      <td>673.750000</td>\n",
              "      <td>318.500000</td>\n",
              "      <td>183.750000</td>\n",
              "      <td>5.25000</td>\n",
              "      <td>3.500000</td>\n",
              "      <td>0.250000</td>\n",
              "      <td>3.00000</td>\n",
              "      <td>18.950000</td>\n",
              "      <td>22.080000</td>\n",
              "    </tr>\n",
              "    <tr>\n",
              "      <th>75%</th>\n",
              "      <td>0.830000</td>\n",
              "      <td>741.125000</td>\n",
              "      <td>343.000000</td>\n",
              "      <td>220.500000</td>\n",
              "      <td>7.00000</td>\n",
              "      <td>4.250000</td>\n",
              "      <td>0.400000</td>\n",
              "      <td>4.00000</td>\n",
              "      <td>31.667500</td>\n",
              "      <td>33.132500</td>\n",
              "    </tr>\n",
              "    <tr>\n",
              "      <th>max</th>\n",
              "      <td>0.980000</td>\n",
              "      <td>808.500000</td>\n",
              "      <td>416.500000</td>\n",
              "      <td>220.500000</td>\n",
              "      <td>7.00000</td>\n",
              "      <td>5.000000</td>\n",
              "      <td>0.400000</td>\n",
              "      <td>5.00000</td>\n",
              "      <td>43.100000</td>\n",
              "      <td>48.030000</td>\n",
              "    </tr>\n",
              "  </tbody>\n",
              "</table>\n",
              "</div>"
            ],
            "text/plain": [
              "               X1          X2          X3          X4         X5          X6  \\\n",
              "count  768.000000  768.000000  768.000000  768.000000  768.00000  768.000000   \n",
              "mean     0.764167  671.708333  318.500000  176.604167    5.25000    3.500000   \n",
              "std      0.105777   88.086116   43.626481   45.165950    1.75114    1.118763   \n",
              "min      0.620000  514.500000  245.000000  110.250000    3.50000    2.000000   \n",
              "25%      0.682500  606.375000  294.000000  140.875000    3.50000    2.750000   \n",
              "50%      0.750000  673.750000  318.500000  183.750000    5.25000    3.500000   \n",
              "75%      0.830000  741.125000  343.000000  220.500000    7.00000    4.250000   \n",
              "max      0.980000  808.500000  416.500000  220.500000    7.00000    5.000000   \n",
              "\n",
              "               X7         X8          Y1          Y2  \n",
              "count  768.000000  768.00000  768.000000  768.000000  \n",
              "mean     0.234375    2.81250   22.307195   24.587760  \n",
              "std      0.133221    1.55096   10.090204    9.513306  \n",
              "min      0.000000    0.00000    6.010000   10.900000  \n",
              "25%      0.100000    1.75000   12.992500   15.620000  \n",
              "50%      0.250000    3.00000   18.950000   22.080000  \n",
              "75%      0.400000    4.00000   31.667500   33.132500  \n",
              "max      0.400000    5.00000   43.100000   48.030000  "
            ]
          },
          "metadata": {
            "tags": []
          },
          "execution_count": 105
        }
      ]
    },
    {
      "metadata": {
        "id": "_E-ZmMjREB_M",
        "colab_type": "text"
      },
      "cell_type": "markdown",
      "source": [
        "## step2 : Preprocessing "
      ]
    },
    {
      "metadata": {
        "id": "ETI3_fH2ELWd",
        "colab_type": "text"
      },
      "cell_type": "markdown",
      "source": [
        ">\n",
        ">1. missing data (補值,drop)\n",
        ">2. normalize data\n",
        ">3. categorial data ==> Non-numerical (e.g. male, female, color)\n",
        ">4. observe data correlation ==> find feature"
      ]
    },
    {
      "metadata": {
        "id": "iNcSyJfqPtk9",
        "colab_type": "text"
      },
      "cell_type": "markdown",
      "source": [
        "###correlation"
      ]
    },
    {
      "metadata": {
        "id": "ClgI3M-TP1oV",
        "colab_type": "code",
        "colab": {
          "base_uri": "https://localhost:8080/",
          "height": 204
        },
        "outputId": "3c83ed84-b75b-43e8-cfd5-f33ba26d05dd"
      },
      "cell_type": "code",
      "source": [
        "data.head()"
      ],
      "execution_count": 106,
      "outputs": [
        {
          "output_type": "execute_result",
          "data": {
            "text/html": [
              "<div>\n",
              "<style scoped>\n",
              "    .dataframe tbody tr th:only-of-type {\n",
              "        vertical-align: middle;\n",
              "    }\n",
              "\n",
              "    .dataframe tbody tr th {\n",
              "        vertical-align: top;\n",
              "    }\n",
              "\n",
              "    .dataframe thead th {\n",
              "        text-align: right;\n",
              "    }\n",
              "</style>\n",
              "<table border=\"1\" class=\"dataframe\">\n",
              "  <thead>\n",
              "    <tr style=\"text-align: right;\">\n",
              "      <th></th>\n",
              "      <th>X1</th>\n",
              "      <th>X2</th>\n",
              "      <th>X3</th>\n",
              "      <th>X4</th>\n",
              "      <th>X5</th>\n",
              "      <th>X6</th>\n",
              "      <th>X7</th>\n",
              "      <th>X8</th>\n",
              "      <th>Y1</th>\n",
              "      <th>Y2</th>\n",
              "    </tr>\n",
              "  </thead>\n",
              "  <tbody>\n",
              "    <tr>\n",
              "      <th>0</th>\n",
              "      <td>0.98</td>\n",
              "      <td>514.5</td>\n",
              "      <td>294.0</td>\n",
              "      <td>110.25</td>\n",
              "      <td>7.0</td>\n",
              "      <td>2</td>\n",
              "      <td>0.0</td>\n",
              "      <td>0</td>\n",
              "      <td>15.55</td>\n",
              "      <td>21.33</td>\n",
              "    </tr>\n",
              "    <tr>\n",
              "      <th>1</th>\n",
              "      <td>0.98</td>\n",
              "      <td>514.5</td>\n",
              "      <td>294.0</td>\n",
              "      <td>110.25</td>\n",
              "      <td>7.0</td>\n",
              "      <td>3</td>\n",
              "      <td>0.0</td>\n",
              "      <td>0</td>\n",
              "      <td>15.55</td>\n",
              "      <td>21.33</td>\n",
              "    </tr>\n",
              "    <tr>\n",
              "      <th>2</th>\n",
              "      <td>0.98</td>\n",
              "      <td>514.5</td>\n",
              "      <td>294.0</td>\n",
              "      <td>110.25</td>\n",
              "      <td>7.0</td>\n",
              "      <td>4</td>\n",
              "      <td>0.0</td>\n",
              "      <td>0</td>\n",
              "      <td>15.55</td>\n",
              "      <td>21.33</td>\n",
              "    </tr>\n",
              "    <tr>\n",
              "      <th>3</th>\n",
              "      <td>0.98</td>\n",
              "      <td>514.5</td>\n",
              "      <td>294.0</td>\n",
              "      <td>110.25</td>\n",
              "      <td>7.0</td>\n",
              "      <td>5</td>\n",
              "      <td>0.0</td>\n",
              "      <td>0</td>\n",
              "      <td>15.55</td>\n",
              "      <td>21.33</td>\n",
              "    </tr>\n",
              "    <tr>\n",
              "      <th>4</th>\n",
              "      <td>0.90</td>\n",
              "      <td>563.5</td>\n",
              "      <td>318.5</td>\n",
              "      <td>122.50</td>\n",
              "      <td>7.0</td>\n",
              "      <td>2</td>\n",
              "      <td>0.0</td>\n",
              "      <td>0</td>\n",
              "      <td>20.84</td>\n",
              "      <td>28.28</td>\n",
              "    </tr>\n",
              "  </tbody>\n",
              "</table>\n",
              "</div>"
            ],
            "text/plain": [
              "     X1     X2     X3      X4   X5  X6   X7  X8     Y1     Y2\n",
              "0  0.98  514.5  294.0  110.25  7.0   2  0.0   0  15.55  21.33\n",
              "1  0.98  514.5  294.0  110.25  7.0   3  0.0   0  15.55  21.33\n",
              "2  0.98  514.5  294.0  110.25  7.0   4  0.0   0  15.55  21.33\n",
              "3  0.98  514.5  294.0  110.25  7.0   5  0.0   0  15.55  21.33\n",
              "4  0.90  563.5  318.5  122.50  7.0   2  0.0   0  20.84  28.28"
            ]
          },
          "metadata": {
            "tags": []
          },
          "execution_count": 106
        }
      ]
    },
    {
      "metadata": {
        "id": "kxz_k6-CP8dO",
        "colab_type": "code",
        "colab": {
          "base_uri": "https://localhost:8080/",
          "height": 683
        },
        "outputId": "8571ed0b-961a-45b5-efc2-1e30d5c51e93"
      },
      "cell_type": "code",
      "source": [
        "#corrlist = data[['X1','X2','X6','X7','Y1']].corr()\n",
        "corrlist = data.corr()\n",
        "print(corrlist)\n",
        "\n",
        "plt.matshow(corrlist)"
      ],
      "execution_count": 107,
      "outputs": [
        {
          "output_type": "stream",
          "text": [
            "              X1            X2            X3            X4            X5  \\\n",
            "X1  1.000000e+00 -9.919015e-01 -2.037817e-01 -8.688234e-01  8.277473e-01   \n",
            "X2 -9.919015e-01  1.000000e+00  1.955016e-01  8.807195e-01 -8.581477e-01   \n",
            "X3 -2.037817e-01  1.955016e-01  1.000000e+00 -2.923165e-01  2.809757e-01   \n",
            "X4 -8.688234e-01  8.807195e-01 -2.923165e-01  1.000000e+00 -9.725122e-01   \n",
            "X5  8.277473e-01 -8.581477e-01  2.809757e-01 -9.725122e-01  1.000000e+00   \n",
            "X6  0.000000e+00  0.000000e+00  0.000000e+00  0.000000e+00  0.000000e+00   \n",
            "X7  1.283986e-17  1.318356e-16 -7.969726e-19 -1.381805e-16  1.861418e-18   \n",
            "X8  1.764620e-17 -3.558613e-16  0.000000e+00 -1.079129e-16  0.000000e+00   \n",
            "Y1  6.222719e-01 -6.581199e-01  4.556714e-01 -8.618281e-01  8.894305e-01   \n",
            "Y2  6.343391e-01 -6.729989e-01  4.271170e-01 -8.625466e-01  8.957852e-01   \n",
            "\n",
            "          X6            X7            X8        Y1        Y2  \n",
            "X1  0.000000  1.283986e-17  1.764620e-17  0.622272  0.634339  \n",
            "X2  0.000000  1.318356e-16 -3.558613e-16 -0.658120 -0.672999  \n",
            "X3  0.000000 -7.969726e-19  0.000000e+00  0.455671  0.427117  \n",
            "X4  0.000000 -1.381805e-16 -1.079129e-16 -0.861828 -0.862547  \n",
            "X5  0.000000  1.861418e-18  0.000000e+00  0.889430  0.895785  \n",
            "X6  1.000000  0.000000e+00  0.000000e+00 -0.002587  0.014290  \n",
            "X7  0.000000  1.000000e+00  2.129642e-01  0.269842  0.207505  \n",
            "X8  0.000000  2.129642e-01  1.000000e+00  0.087368  0.050525  \n",
            "Y1 -0.002587  2.698417e-01  8.736846e-02  1.000000  0.975862  \n",
            "Y2  0.014290  2.075050e-01  5.052512e-02  0.975862  1.000000  \n"
          ],
          "name": "stdout"
        },
        {
          "output_type": "execute_result",
          "data": {
            "text/plain": [
              "<matplotlib.image.AxesImage at 0x7f41c282fd68>"
            ]
          },
          "metadata": {
            "tags": []
          },
          "execution_count": 107
        },
        {
          "output_type": "display_data",
          "data": {
            "image/png": "[encoded data removed]",
            "text/plain": [
              "<Figure size 288x288 with 1 Axes>"
            ]
          },
          "metadata": {
            "tags": []
          }
        }
      ]
    },
    {
      "metadata": {
        "id": "oId8RoWxHhoB",
        "colab_type": "text"
      },
      "cell_type": "markdown",
      "source": [
        "##step3 : Feature Engineering (pick up potential features)"
      ]
    },
    {
      "metadata": {
        "id": "dFTxecNmH6v3",
        "colab_type": "text"
      },
      "cell_type": "markdown",
      "source": [
        "### step3.1 basic feature engineering\n",
        "\n",
        ">1.choose X1,X2,X6,X7"
      ]
    },
    {
      "metadata": {
        "id": "zZu_SLNJHgpZ",
        "colab_type": "code",
        "colab": {
          "base_uri": "https://localhost:8080/",
          "height": 297
        },
        "outputId": "77d59514-42ec-4da0-c3cf-5a862afdff6e"
      },
      "cell_type": "code",
      "source": [
        "X = data[['X1','X2','X6','X7']]\n",
        "Y = data[['Y1']]\n",
        "\n",
        "X.describe()"
      ],
      "execution_count": 108,
      "outputs": [
        {
          "output_type": "execute_result",
          "data": {
            "text/html": [
              "<div>\n",
              "<style scoped>\n",
              "    .dataframe tbody tr th:only-of-type {\n",
              "        vertical-align: middle;\n",
              "    }\n",
              "\n",
              "    .dataframe tbody tr th {\n",
              "        vertical-align: top;\n",
              "    }\n",
              "\n",
              "    .dataframe thead th {\n",
              "        text-align: right;\n",
              "    }\n",
              "</style>\n",
              "<table border=\"1\" class=\"dataframe\">\n",
              "  <thead>\n",
              "    <tr style=\"text-align: right;\">\n",
              "      <th></th>\n",
              "      <th>X1</th>\n",
              "      <th>X2</th>\n",
              "      <th>X6</th>\n",
              "      <th>X7</th>\n",
              "    </tr>\n",
              "  </thead>\n",
              "  <tbody>\n",
              "    <tr>\n",
              "      <th>count</th>\n",
              "      <td>768.000000</td>\n",
              "      <td>768.000000</td>\n",
              "      <td>768.000000</td>\n",
              "      <td>768.000000</td>\n",
              "    </tr>\n",
              "    <tr>\n",
              "      <th>mean</th>\n",
              "      <td>0.764167</td>\n",
              "      <td>671.708333</td>\n",
              "      <td>3.500000</td>\n",
              "      <td>0.234375</td>\n",
              "    </tr>\n",
              "    <tr>\n",
              "      <th>std</th>\n",
              "      <td>0.105777</td>\n",
              "      <td>88.086116</td>\n",
              "      <td>1.118763</td>\n",
              "      <td>0.133221</td>\n",
              "    </tr>\n",
              "    <tr>\n",
              "      <th>min</th>\n",
              "      <td>0.620000</td>\n",
              "      <td>514.500000</td>\n",
              "      <td>2.000000</td>\n",
              "      <td>0.000000</td>\n",
              "    </tr>\n",
              "    <tr>\n",
              "      <th>25%</th>\n",
              "      <td>0.682500</td>\n",
              "      <td>606.375000</td>\n",
              "      <td>2.750000</td>\n",
              "      <td>0.100000</td>\n",
              "    </tr>\n",
              "    <tr>\n",
              "      <th>50%</th>\n",
              "      <td>0.750000</td>\n",
              "      <td>673.750000</td>\n",
              "      <td>3.500000</td>\n",
              "      <td>0.250000</td>\n",
              "    </tr>\n",
              "    <tr>\n",
              "      <th>75%</th>\n",
              "      <td>0.830000</td>\n",
              "      <td>741.125000</td>\n",
              "      <td>4.250000</td>\n",
              "      <td>0.400000</td>\n",
              "    </tr>\n",
              "    <tr>\n",
              "      <th>max</th>\n",
              "      <td>0.980000</td>\n",
              "      <td>808.500000</td>\n",
              "      <td>5.000000</td>\n",
              "      <td>0.400000</td>\n",
              "    </tr>\n",
              "  </tbody>\n",
              "</table>\n",
              "</div>"
            ],
            "text/plain": [
              "               X1          X2          X6          X7\n",
              "count  768.000000  768.000000  768.000000  768.000000\n",
              "mean     0.764167  671.708333    3.500000    0.234375\n",
              "std      0.105777   88.086116    1.118763    0.133221\n",
              "min      0.620000  514.500000    2.000000    0.000000\n",
              "25%      0.682500  606.375000    2.750000    0.100000\n",
              "50%      0.750000  673.750000    3.500000    0.250000\n",
              "75%      0.830000  741.125000    4.250000    0.400000\n",
              "max      0.980000  808.500000    5.000000    0.400000"
            ]
          },
          "metadata": {
            "tags": []
          },
          "execution_count": 108
        }
      ]
    },
    {
      "metadata": {
        "id": "PYNyQd94Jp5M",
        "colab_type": "code",
        "colab": {}
      },
      "cell_type": "code",
      "source": [
        "X = X.values.reshape(-1,4)\n",
        "Y = Y.values.reshape(-1,1)"
      ],
      "execution_count": 0,
      "outputs": []
    },
    {
      "metadata": {
        "id": "4sTOurqVPJrk",
        "colab_type": "text"
      },
      "cell_type": "markdown",
      "source": [
        "###step3.2 advanced featuer engineering\n",
        "\n",
        ">1. split your X to Xtrain, Xtest or use KFold to split\n",
        ">(training/validation/testing)"
      ]
    },
    {
      "metadata": {
        "id": "njHEjxPnT_TI",
        "colab_type": "code",
        "colab": {}
      },
      "cell_type": "code",
      "source": [
        "from sklearn.model_selection import train_test_split\n",
        "\n",
        "Xtrain, Xtest, Ytrain, Ytest = train_test_split(X, Y, test_size = 0.33, random_state = 42)"
      ],
      "execution_count": 0,
      "outputs": []
    },
    {
      "metadata": {
        "id": "ZlVepP6cJI91",
        "colab_type": "text"
      },
      "cell_type": "markdown",
      "source": [
        "##step4 : Build ML model and check score"
      ]
    },
    {
      "metadata": {
        "id": "B7y7eanYIJiQ",
        "colab_type": "code",
        "colab": {
          "base_uri": "https://localhost:8080/",
          "height": 34
        },
        "outputId": "6e457a56-4eaa-47da-e6b8-796010e1e4b1"
      },
      "cell_type": "code",
      "source": [
        "from sklearn.linear_model import LinearRegression as LR\n",
        "\n",
        "model = LR()\n",
        "model.fit(X,Y)\n",
        "\n",
        "print('score : ',model.score(X,Y))"
      ],
      "execution_count": 111,
      "outputs": [
        {
          "output_type": "stream",
          "text": [
            "score :  0.5636784992643233\n"
          ],
          "name": "stdout"
        }
      ]
    },
    {
      "metadata": {
        "id": "BB9wjjA_Ka2m",
        "colab_type": "text"
      },
      "cell_type": "markdown",
      "source": [
        "### other ML\n",
        "\n",
        ">1. SVR\n",
        ">2. Decision Tree"
      ]
    },
    {
      "metadata": {
        "id": "udvkXkq2KP2t",
        "colab_type": "code",
        "colab": {
          "base_uri": "https://localhost:8080/",
          "height": 142
        },
        "outputId": "067cc2af-6a9a-4698-996e-b94635e647cd"
      },
      "cell_type": "code",
      "source": [
        "from sklearn.svm import SVR\n",
        "\n",
        "modelSVR = SVR()\n",
        "modelSVR.fit(X,Y)\n",
        "\n",
        "print('score : ',modelSVR.score(X,Y))"
      ],
      "execution_count": 112,
      "outputs": [
        {
          "output_type": "stream",
          "text": [
            "score :  0.9135063965590701\n"
          ],
          "name": "stdout"
        },
        {
          "output_type": "stream",
          "text": [
            "/usr/local/lib/python3.6/dist-packages/sklearn/utils/validation.py:761: DataConversionWarning: A column-vector y was passed when a 1d array was expected. Please change the shape of y to (n_samples, ), for example using ravel().\n",
            "  y = column_or_1d(y, warn=True)\n",
            "/usr/local/lib/python3.6/dist-packages/sklearn/svm/base.py:196: FutureWarning: The default value of gamma will change from 'auto' to 'scale' in version 0.22 to account better for unscaled features. Set gamma explicitly to 'auto' or 'scale' to avoid this warning.\n",
            "  \"avoid this warning.\", FutureWarning)\n"
          ],
          "name": "stderr"
        }
      ]
    },
    {
      "metadata": {
        "id": "BIrVnPquL_vt",
        "colab_type": "code",
        "colab": {
          "base_uri": "https://localhost:8080/",
          "height": 34
        },
        "outputId": "de9bc6cc-6e1c-4bd8-964b-146af4f4ced8"
      },
      "cell_type": "code",
      "source": [
        "from sklearn.tree import DecisionTreeRegressor as DTR\n",
        "modelDTR = DTR(max_depth=2)\n",
        "modelDTR.fit(X,Y)\n",
        "\n",
        "print('score : ',modelDTR.score(X,Y))"
      ],
      "execution_count": 113,
      "outputs": [
        {
          "output_type": "stream",
          "text": [
            "score :  0.8882242569601309\n"
          ],
          "name": "stdout"
        }
      ]
    },
    {
      "metadata": {
        "id": "A0RlS-x6WA2X",
        "colab_type": "code",
        "colab": {
          "base_uri": "https://localhost:8080/",
          "height": 51
        },
        "outputId": "a01d6bcd-d1d3-464c-f2c9-e613fddcab50"
      },
      "cell_type": "code",
      "source": [
        "from sklearn.metrics import mean_squared_error\n",
        "\n",
        "model.fit(Xtrain,Ytrain)\n",
        "\n",
        "YtrainPre = model.predict(Xtrain)\n",
        "YPre = model.predict(Xtest)\n",
        "\n",
        "mse_train = mean_squared_error(Ytrain, YtrainPre)\n",
        "mse_test = mean_squared_error(Ytest,YPre)\n",
        "\n",
        "print(\"mse_train\", mse_train)\n",
        "print(\"mse_test\", mse_test)"
      ],
      "execution_count": 115,
      "outputs": [
        {
          "output_type": "stream",
          "text": [
            "mse_train 44.3437761965974\n",
            "mse_test 44.61529632512473\n"
          ],
          "name": "stdout"
        }
      ]
    },
    {
      "metadata": {
        "id": "KA3314TmNMMa",
        "colab_type": "text"
      },
      "cell_type": "markdown",
      "source": [
        "###Improved models\n",
        "\n",
        ">1. try different models\n",
        ">2. try different parameters\n",
        ">3. try different features\n",
        ">4. add data"
      ]
    },
    {
      "metadata": {
        "id": "PVSJTq9KM4SG",
        "colab_type": "code",
        "colab": {}
      },
      "cell_type": "code",
      "source": [
        ""
      ],
      "execution_count": 0,
      "outputs": []
    }
  ]
}